{
 "cells": [
  {
   "cell_type": "code",
   "execution_count": 1,
   "metadata": {},
   "outputs": [],
   "source": [
    "import requests \n",
    "import pandas as pd\n",
    "\n",
    "\n",
    "\n",
    "url=\"https://api.themoviedb.org/3/trending/movie/day?[My_API_KEY]\"\n",
    "response=requests.get(url)\n",
    "data=response.json()\n",
    "rows=data[\"results\"]\n",
    "df=pd.DataFrame(rows)"
   ]
  },
  {
   "cell_type": "code",
   "execution_count": 81,
   "metadata": {
    "collapsed": true
   },
   "outputs": [
    {
     "data": {
      "text/html": [
       "<div>\n",
       "<style scoped>\n",
       "    .dataframe tbody tr th:only-of-type {\n",
       "        vertical-align: middle;\n",
       "    }\n",
       "\n",
       "    .dataframe tbody tr th {\n",
       "        vertical-align: top;\n",
       "    }\n",
       "\n",
       "    .dataframe thead th {\n",
       "        text-align: right;\n",
       "    }\n",
       "</style>\n",
       "<table border=\"1\" class=\"dataframe\">\n",
       "  <thead>\n",
       "    <tr style=\"text-align: right;\">\n",
       "      <th></th>\n",
       "      <th>adult</th>\n",
       "      <th>backdrop_path</th>\n",
       "      <th>genre_ids</th>\n",
       "      <th>id</th>\n",
       "      <th>media_type</th>\n",
       "      <th>original_language</th>\n",
       "      <th>original_title</th>\n",
       "      <th>overview</th>\n",
       "      <th>popularity</th>\n",
       "      <th>poster_path</th>\n",
       "      <th>release_date</th>\n",
       "      <th>title</th>\n",
       "      <th>video</th>\n",
       "      <th>vote_average</th>\n",
       "      <th>vote_count</th>\n",
       "    </tr>\n",
       "  </thead>\n",
       "  <tbody>\n",
       "    <tr>\n",
       "      <th>0</th>\n",
       "      <td>False</td>\n",
       "      <td>/928wR5R0vmbLsqxJaWmaMHS7SpO.jpg</td>\n",
       "      <td>[80, 18, 36]</td>\n",
       "      <td>398978</td>\n",
       "      <td>movie</td>\n",
       "      <td>en</td>\n",
       "      <td>The Irishman</td>\n",
       "      <td>Pennsylvania, 1956. Frank Sheeran, a war veter...</td>\n",
       "      <td>113.763</td>\n",
       "      <td>/4Fc3UkAyXIKWW8jrCQpvOkTE1gy.jpg</td>\n",
       "      <td>2019-11-01</td>\n",
       "      <td>The Irishman</td>\n",
       "      <td>False</td>\n",
       "      <td>8.3</td>\n",
       "      <td>360</td>\n",
       "    </tr>\n",
       "    <tr>\n",
       "      <th>1</th>\n",
       "      <td>False</td>\n",
       "      <td>/nGJpQCAn2NKeDoEflLI5DIvsqoQ.jpg</td>\n",
       "      <td>[35, 18, 53]</td>\n",
       "      <td>466272</td>\n",
       "      <td>movie</td>\n",
       "      <td>en</td>\n",
       "      <td>Once Upon a Time... in Hollywood</td>\n",
       "      <td>A faded television actor and his stunt double ...</td>\n",
       "      <td>259.074</td>\n",
       "      <td>/8j58iEBw9pOXFD2L0nt0ZXeHviB.jpg</td>\n",
       "      <td>2019-07-25</td>\n",
       "      <td>Once Upon a Time... in Hollywood</td>\n",
       "      <td>False</td>\n",
       "      <td>7.5</td>\n",
       "      <td>2811</td>\n",
       "    </tr>\n",
       "    <tr>\n",
       "      <th>2</th>\n",
       "      <td>False</td>\n",
       "      <td>/mBBJ3N3an8FLkp0ZpGgIJwHKhBP.jpg</td>\n",
       "      <td>[35, 80, 18]</td>\n",
       "      <td>540901</td>\n",
       "      <td>movie</td>\n",
       "      <td>en</td>\n",
       "      <td>Hustlers</td>\n",
       "      <td>A crew of savvy former strip club employees ba...</td>\n",
       "      <td>156.277</td>\n",
       "      <td>/zBhv8rsLOfpFW2M5b6wW78Uoojs.jpg</td>\n",
       "      <td>2019-09-12</td>\n",
       "      <td>Hustlers</td>\n",
       "      <td>False</td>\n",
       "      <td>6.2</td>\n",
       "      <td>493</td>\n",
       "    </tr>\n",
       "    <tr>\n",
       "      <th>3</th>\n",
       "      <td>False</td>\n",
       "      <td>/tLCDKsXo6D84IVFanoElosSEKdp.jpg</td>\n",
       "      <td>[12, 16, 35, 10751]</td>\n",
       "      <td>431580</td>\n",
       "      <td>movie</td>\n",
       "      <td>en</td>\n",
       "      <td>Abominable</td>\n",
       "      <td>A group of misfits encounter a young Yeti name...</td>\n",
       "      <td>36.932</td>\n",
       "      <td>/llhj3xtNes2Ri4d9HqtleKo1CfL.jpg</td>\n",
       "      <td>2019-09-19</td>\n",
       "      <td>Abominable</td>\n",
       "      <td>False</td>\n",
       "      <td>7.1</td>\n",
       "      <td>187</td>\n",
       "    </tr>\n",
       "    <tr>\n",
       "      <th>4</th>\n",
       "      <td>False</td>\n",
       "      <td>/xJWPZIYOEFIjZpBL7SVBGnzRYXp.jpg</td>\n",
       "      <td>[12, 16, 35, 10402, 10751]</td>\n",
       "      <td>330457</td>\n",
       "      <td>movie</td>\n",
       "      <td>en</td>\n",
       "      <td>Frozen II</td>\n",
       "      <td>Elsa, Anna, Kristoff and Olaf head far into th...</td>\n",
       "      <td>363.690</td>\n",
       "      <td>/qdfARIhgpgZOBh3vfNhWS4hmSo3.jpg</td>\n",
       "      <td>2019-11-20</td>\n",
       "      <td>Frozen II</td>\n",
       "      <td>False</td>\n",
       "      <td>7.0</td>\n",
       "      <td>378</td>\n",
       "    </tr>\n",
       "    <tr>\n",
       "      <th>5</th>\n",
       "      <td>False</td>\n",
       "      <td>/j8uPZSPjKYzHlN2B4NhPQVWWZ5x.jpg</td>\n",
       "      <td>[35, 27, 9648, 53]</td>\n",
       "      <td>567609</td>\n",
       "      <td>movie</td>\n",
       "      <td>en</td>\n",
       "      <td>Ready or Not</td>\n",
       "      <td>A bride's wedding night takes a sinister turn ...</td>\n",
       "      <td>97.140</td>\n",
       "      <td>/vOl6shtL0wknjaIs6JdKCpcHvg8.jpg</td>\n",
       "      <td>2019-08-21</td>\n",
       "      <td>Ready or Not</td>\n",
       "      <td>False</td>\n",
       "      <td>6.8</td>\n",
       "      <td>408</td>\n",
       "    </tr>\n",
       "    <tr>\n",
       "      <th>6</th>\n",
       "      <td>False</td>\n",
       "      <td>/8moTOzunF7p40oR5XhlDvJckOSW.jpg</td>\n",
       "      <td>[18, 27]</td>\n",
       "      <td>474350</td>\n",
       "      <td>movie</td>\n",
       "      <td>en</td>\n",
       "      <td>It Chapter Two</td>\n",
       "      <td>27 years after overcoming the malevolent super...</td>\n",
       "      <td>96.111</td>\n",
       "      <td>/zfE0R94v1E8cuKAerbskfD3VfUt.jpg</td>\n",
       "      <td>2019-09-04</td>\n",
       "      <td>It Chapter Two</td>\n",
       "      <td>False</td>\n",
       "      <td>6.8</td>\n",
       "      <td>2173</td>\n",
       "    </tr>\n",
       "    <tr>\n",
       "      <th>7</th>\n",
       "      <td>False</td>\n",
       "      <td>/1NSjj7AnAbAUXHAJv3a14yC3h4E.jpg</td>\n",
       "      <td>[35, 18, 10749]</td>\n",
       "      <td>639609</td>\n",
       "      <td>movie</td>\n",
       "      <td>en</td>\n",
       "      <td>Holiday Rush</td>\n",
       "      <td>After his sudden firing, a popular radio DJ mo...</td>\n",
       "      <td>40.715</td>\n",
       "      <td>/AoXqonhUV6tYaqnj5xlJGvAmOps.jpg</td>\n",
       "      <td>2019-11-28</td>\n",
       "      <td>Holiday Rush</td>\n",
       "      <td>False</td>\n",
       "      <td>4.7</td>\n",
       "      <td>3</td>\n",
       "    </tr>\n",
       "    <tr>\n",
       "      <th>8</th>\n",
       "      <td>False</td>\n",
       "      <td>/k2WyDw2NTUIWnuEs5gT7wgrCQg6.jpg</td>\n",
       "      <td>[28]</td>\n",
       "      <td>423204</td>\n",
       "      <td>movie</td>\n",
       "      <td>en</td>\n",
       "      <td>Angel Has Fallen</td>\n",
       "      <td>After the events in the previous film, Secret ...</td>\n",
       "      <td>94.234</td>\n",
       "      <td>/fapXd3v9qTcNBTm39ZC4KUVQDNf.jpg</td>\n",
       "      <td>2019-08-21</td>\n",
       "      <td>Angel Has Fallen</td>\n",
       "      <td>False</td>\n",
       "      <td>5.8</td>\n",
       "      <td>691</td>\n",
       "    </tr>\n",
       "    <tr>\n",
       "      <th>9</th>\n",
       "      <td>False</td>\n",
       "      <td>/mFcfdnAYaQQhXhKcoITiDYtuO5b.jpg</td>\n",
       "      <td>[18]</td>\n",
       "      <td>535544</td>\n",
       "      <td>movie</td>\n",
       "      <td>en</td>\n",
       "      <td>Downton Abbey</td>\n",
       "      <td>The beloved Crawleys and their intrepid staff ...</td>\n",
       "      <td>53.382</td>\n",
       "      <td>/pWt1iRuhNpeVDNP2QiUT2C5OiBt.jpg</td>\n",
       "      <td>2019-09-12</td>\n",
       "      <td>Downton Abbey</td>\n",
       "      <td>False</td>\n",
       "      <td>7.1</td>\n",
       "      <td>221</td>\n",
       "    </tr>\n",
       "    <tr>\n",
       "      <th>10</th>\n",
       "      <td>False</td>\n",
       "      <td>/wgNYjRmicuFFnzXeXH9KszVIJoZ.jpg</td>\n",
       "      <td>[18, 878, 53]</td>\n",
       "      <td>539892</td>\n",
       "      <td>movie</td>\n",
       "      <td>en</td>\n",
       "      <td>Freaks</td>\n",
       "      <td>Kept locked inside the house by her father, 7-...</td>\n",
       "      <td>6.303</td>\n",
       "      <td>/kc2cvuqESIiRX5QoZOoMTBq18kQ.jpg</td>\n",
       "      <td>2019-09-13</td>\n",
       "      <td>Freaks</td>\n",
       "      <td>False</td>\n",
       "      <td>6.8</td>\n",
       "      <td>11</td>\n",
       "    </tr>\n",
       "    <tr>\n",
       "      <th>11</th>\n",
       "      <td>False</td>\n",
       "      <td>/n6bUvigpRFqSwmPp1m2YADdbRBc.jpg</td>\n",
       "      <td>[80, 18, 53]</td>\n",
       "      <td>475557</td>\n",
       "      <td>movie</td>\n",
       "      <td>en</td>\n",
       "      <td>Joker</td>\n",
       "      <td>During the 1980s, a failed stand-up comedian i...</td>\n",
       "      <td>168.106</td>\n",
       "      <td>/udDclJoHjfjb8Ekgsd4FDteOkCU.jpg</td>\n",
       "      <td>2019-10-02</td>\n",
       "      <td>Joker</td>\n",
       "      <td>False</td>\n",
       "      <td>8.4</td>\n",
       "      <td>6016</td>\n",
       "    </tr>\n",
       "    <tr>\n",
       "      <th>12</th>\n",
       "      <td>False</td>\n",
       "      <td>/qAhedRxRYWZAgZ8O8pHIl6QHdD7.jpg</td>\n",
       "      <td>[28, 12, 35]</td>\n",
       "      <td>384018</td>\n",
       "      <td>movie</td>\n",
       "      <td>en</td>\n",
       "      <td>Fast &amp; Furious Presents: Hobbs &amp; Shaw</td>\n",
       "      <td>Ever since US Diplomatic Security Service Agen...</td>\n",
       "      <td>66.945</td>\n",
       "      <td>/kvpNZAQow5es1tSY6XW2jAZuPPG.jpg</td>\n",
       "      <td>2019-08-01</td>\n",
       "      <td>Fast &amp; Furious Presents: Hobbs &amp; Shaw</td>\n",
       "      <td>False</td>\n",
       "      <td>6.6</td>\n",
       "      <td>2023</td>\n",
       "    </tr>\n",
       "    <tr>\n",
       "      <th>13</th>\n",
       "      <td>False</td>\n",
       "      <td>/nRXO2SnOA75OsWhNhXstHB8ZmI3.jpg</td>\n",
       "      <td>[12, 18]</td>\n",
       "      <td>420818</td>\n",
       "      <td>movie</td>\n",
       "      <td>en</td>\n",
       "      <td>The Lion King</td>\n",
       "      <td>Simba idolizes his father, King Mufasa, and ta...</td>\n",
       "      <td>102.715</td>\n",
       "      <td>/2bXbqYdUdNVa8VIWXVfclP2ICtT.jpg</td>\n",
       "      <td>2019-07-12</td>\n",
       "      <td>The Lion King</td>\n",
       "      <td>False</td>\n",
       "      <td>7.1</td>\n",
       "      <td>3707</td>\n",
       "    </tr>\n",
       "    <tr>\n",
       "      <th>14</th>\n",
       "      <td>False</td>\n",
       "      <td>/yRNrOJyyeHJjgtJNLcqpo7rQyS6.jpg</td>\n",
       "      <td>[18, 36]</td>\n",
       "      <td>524348</td>\n",
       "      <td>movie</td>\n",
       "      <td>en</td>\n",
       "      <td>The Report</td>\n",
       "      <td>The story of Daniel Jones, lead investigator f...</td>\n",
       "      <td>8.546</td>\n",
       "      <td>/sG5NI6TMNR9ftOdTIXmG0hrBYSY.jpg</td>\n",
       "      <td>2019-09-12</td>\n",
       "      <td>The Report</td>\n",
       "      <td>False</td>\n",
       "      <td>6.7</td>\n",
       "      <td>13</td>\n",
       "    </tr>\n",
       "    <tr>\n",
       "      <th>15</th>\n",
       "      <td>False</td>\n",
       "      <td>/AbRYlvwAKHs0YuyNO6NX9ofq4l6.jpg</td>\n",
       "      <td>[35, 9648, 53]</td>\n",
       "      <td>546554</td>\n",
       "      <td>movie</td>\n",
       "      <td>en</td>\n",
       "      <td>Knives Out</td>\n",
       "      <td>When renowned crime novelist Harlan Thrombey i...</td>\n",
       "      <td>118.354</td>\n",
       "      <td>/pThyQovXQrw2m0s9x82twj48Jq4.jpg</td>\n",
       "      <td>2019-11-27</td>\n",
       "      <td>Knives Out</td>\n",
       "      <td>False</td>\n",
       "      <td>7.8</td>\n",
       "      <td>55</td>\n",
       "    </tr>\n",
       "    <tr>\n",
       "      <th>16</th>\n",
       "      <td>False</td>\n",
       "      <td>/spYx9XQFODuqEVoPpvaJI1ksAVt.jpg</td>\n",
       "      <td>[28, 53]</td>\n",
       "      <td>522938</td>\n",
       "      <td>movie</td>\n",
       "      <td>en</td>\n",
       "      <td>Rambo: Last Blood</td>\n",
       "      <td>When John Rambo's niece travels to Mexico to f...</td>\n",
       "      <td>63.228</td>\n",
       "      <td>/kTQ3J8oTTKofAVLYnds2cHUz9KO.jpg</td>\n",
       "      <td>2019-09-19</td>\n",
       "      <td>Rambo: Last Blood</td>\n",
       "      <td>False</td>\n",
       "      <td>5.9</td>\n",
       "      <td>576</td>\n",
       "    </tr>\n",
       "    <tr>\n",
       "      <th>17</th>\n",
       "      <td>False</td>\n",
       "      <td>/7RyHsO4yDXtBv1zUU3mTpHeQ0d5.jpg</td>\n",
       "      <td>[28, 12, 878]</td>\n",
       "      <td>299534</td>\n",
       "      <td>movie</td>\n",
       "      <td>en</td>\n",
       "      <td>Avengers: Endgame</td>\n",
       "      <td>After the devastating events of Avengers: Infi...</td>\n",
       "      <td>47.664</td>\n",
       "      <td>/or06FN3Dka5tukK1e9sl16pB3iy.jpg</td>\n",
       "      <td>2019-04-24</td>\n",
       "      <td>Avengers: Endgame</td>\n",
       "      <td>False</td>\n",
       "      <td>8.3</td>\n",
       "      <td>10313</td>\n",
       "    </tr>\n",
       "    <tr>\n",
       "      <th>18</th>\n",
       "      <td>False</td>\n",
       "      <td>/uF4gCZHiui3UJ2BzUb8Nr6De6Lt.jpg</td>\n",
       "      <td>[18]</td>\n",
       "      <td>472674</td>\n",
       "      <td>movie</td>\n",
       "      <td>en</td>\n",
       "      <td>The Goldfinch</td>\n",
       "      <td>A boy in New York is taken in by a wealthy fam...</td>\n",
       "      <td>41.051</td>\n",
       "      <td>/8NwONmcJmPr0w9A176JorJ3tbJx.jpg</td>\n",
       "      <td>2019-09-12</td>\n",
       "      <td>The Goldfinch</td>\n",
       "      <td>False</td>\n",
       "      <td>6.9</td>\n",
       "      <td>65</td>\n",
       "    </tr>\n",
       "    <tr>\n",
       "      <th>19</th>\n",
       "      <td>False</td>\n",
       "      <td>/5myQbDzw3l8K9yofUXRJ4UTVgam.jpg</td>\n",
       "      <td>[28, 12, 878]</td>\n",
       "      <td>429617</td>\n",
       "      <td>movie</td>\n",
       "      <td>en</td>\n",
       "      <td>Spider-Man: Far from Home</td>\n",
       "      <td>Peter Parker and his friends go on a summer tr...</td>\n",
       "      <td>193.650</td>\n",
       "      <td>/lcq8dVxeeOqHvvgcte707K0KVx5.jpg</td>\n",
       "      <td>2019-06-28</td>\n",
       "      <td>Spider-Man: Far from Home</td>\n",
       "      <td>False</td>\n",
       "      <td>7.6</td>\n",
       "      <td>5177</td>\n",
       "    </tr>\n",
       "  </tbody>\n",
       "</table>\n",
       "</div>"
      ],
      "text/plain": [
       "    adult                     backdrop_path                   genre_ids  \\\n",
       "0   False  /928wR5R0vmbLsqxJaWmaMHS7SpO.jpg                [80, 18, 36]   \n",
       "1   False  /nGJpQCAn2NKeDoEflLI5DIvsqoQ.jpg                [35, 18, 53]   \n",
       "2   False  /mBBJ3N3an8FLkp0ZpGgIJwHKhBP.jpg                [35, 80, 18]   \n",
       "3   False  /tLCDKsXo6D84IVFanoElosSEKdp.jpg         [12, 16, 35, 10751]   \n",
       "4   False  /xJWPZIYOEFIjZpBL7SVBGnzRYXp.jpg  [12, 16, 35, 10402, 10751]   \n",
       "5   False  /j8uPZSPjKYzHlN2B4NhPQVWWZ5x.jpg          [35, 27, 9648, 53]   \n",
       "6   False  /8moTOzunF7p40oR5XhlDvJckOSW.jpg                    [18, 27]   \n",
       "7   False  /1NSjj7AnAbAUXHAJv3a14yC3h4E.jpg             [35, 18, 10749]   \n",
       "8   False  /k2WyDw2NTUIWnuEs5gT7wgrCQg6.jpg                        [28]   \n",
       "9   False  /mFcfdnAYaQQhXhKcoITiDYtuO5b.jpg                        [18]   \n",
       "10  False  /wgNYjRmicuFFnzXeXH9KszVIJoZ.jpg               [18, 878, 53]   \n",
       "11  False  /n6bUvigpRFqSwmPp1m2YADdbRBc.jpg                [80, 18, 53]   \n",
       "12  False  /qAhedRxRYWZAgZ8O8pHIl6QHdD7.jpg                [28, 12, 35]   \n",
       "13  False  /nRXO2SnOA75OsWhNhXstHB8ZmI3.jpg                    [12, 18]   \n",
       "14  False  /yRNrOJyyeHJjgtJNLcqpo7rQyS6.jpg                    [18, 36]   \n",
       "15  False  /AbRYlvwAKHs0YuyNO6NX9ofq4l6.jpg              [35, 9648, 53]   \n",
       "16  False  /spYx9XQFODuqEVoPpvaJI1ksAVt.jpg                    [28, 53]   \n",
       "17  False  /7RyHsO4yDXtBv1zUU3mTpHeQ0d5.jpg               [28, 12, 878]   \n",
       "18  False  /uF4gCZHiui3UJ2BzUb8Nr6De6Lt.jpg                        [18]   \n",
       "19  False  /5myQbDzw3l8K9yofUXRJ4UTVgam.jpg               [28, 12, 878]   \n",
       "\n",
       "        id media_type original_language  \\\n",
       "0   398978      movie                en   \n",
       "1   466272      movie                en   \n",
       "2   540901      movie                en   \n",
       "3   431580      movie                en   \n",
       "4   330457      movie                en   \n",
       "5   567609      movie                en   \n",
       "6   474350      movie                en   \n",
       "7   639609      movie                en   \n",
       "8   423204      movie                en   \n",
       "9   535544      movie                en   \n",
       "10  539892      movie                en   \n",
       "11  475557      movie                en   \n",
       "12  384018      movie                en   \n",
       "13  420818      movie                en   \n",
       "14  524348      movie                en   \n",
       "15  546554      movie                en   \n",
       "16  522938      movie                en   \n",
       "17  299534      movie                en   \n",
       "18  472674      movie                en   \n",
       "19  429617      movie                en   \n",
       "\n",
       "                           original_title  \\\n",
       "0                            The Irishman   \n",
       "1        Once Upon a Time... in Hollywood   \n",
       "2                                Hustlers   \n",
       "3                              Abominable   \n",
       "4                               Frozen II   \n",
       "5                            Ready or Not   \n",
       "6                          It Chapter Two   \n",
       "7                            Holiday Rush   \n",
       "8                        Angel Has Fallen   \n",
       "9                           Downton Abbey   \n",
       "10                                 Freaks   \n",
       "11                                  Joker   \n",
       "12  Fast & Furious Presents: Hobbs & Shaw   \n",
       "13                          The Lion King   \n",
       "14                             The Report   \n",
       "15                             Knives Out   \n",
       "16                      Rambo: Last Blood   \n",
       "17                      Avengers: Endgame   \n",
       "18                          The Goldfinch   \n",
       "19              Spider-Man: Far from Home   \n",
       "\n",
       "                                             overview  popularity  \\\n",
       "0   Pennsylvania, 1956. Frank Sheeran, a war veter...     113.763   \n",
       "1   A faded television actor and his stunt double ...     259.074   \n",
       "2   A crew of savvy former strip club employees ba...     156.277   \n",
       "3   A group of misfits encounter a young Yeti name...      36.932   \n",
       "4   Elsa, Anna, Kristoff and Olaf head far into th...     363.690   \n",
       "5   A bride's wedding night takes a sinister turn ...      97.140   \n",
       "6   27 years after overcoming the malevolent super...      96.111   \n",
       "7   After his sudden firing, a popular radio DJ mo...      40.715   \n",
       "8   After the events in the previous film, Secret ...      94.234   \n",
       "9   The beloved Crawleys and their intrepid staff ...      53.382   \n",
       "10  Kept locked inside the house by her father, 7-...       6.303   \n",
       "11  During the 1980s, a failed stand-up comedian i...     168.106   \n",
       "12  Ever since US Diplomatic Security Service Agen...      66.945   \n",
       "13  Simba idolizes his father, King Mufasa, and ta...     102.715   \n",
       "14  The story of Daniel Jones, lead investigator f...       8.546   \n",
       "15  When renowned crime novelist Harlan Thrombey i...     118.354   \n",
       "16  When John Rambo's niece travels to Mexico to f...      63.228   \n",
       "17  After the devastating events of Avengers: Infi...      47.664   \n",
       "18  A boy in New York is taken in by a wealthy fam...      41.051   \n",
       "19  Peter Parker and his friends go on a summer tr...     193.650   \n",
       "\n",
       "                         poster_path release_date  \\\n",
       "0   /4Fc3UkAyXIKWW8jrCQpvOkTE1gy.jpg   2019-11-01   \n",
       "1   /8j58iEBw9pOXFD2L0nt0ZXeHviB.jpg   2019-07-25   \n",
       "2   /zBhv8rsLOfpFW2M5b6wW78Uoojs.jpg   2019-09-12   \n",
       "3   /llhj3xtNes2Ri4d9HqtleKo1CfL.jpg   2019-09-19   \n",
       "4   /qdfARIhgpgZOBh3vfNhWS4hmSo3.jpg   2019-11-20   \n",
       "5   /vOl6shtL0wknjaIs6JdKCpcHvg8.jpg   2019-08-21   \n",
       "6   /zfE0R94v1E8cuKAerbskfD3VfUt.jpg   2019-09-04   \n",
       "7   /AoXqonhUV6tYaqnj5xlJGvAmOps.jpg   2019-11-28   \n",
       "8   /fapXd3v9qTcNBTm39ZC4KUVQDNf.jpg   2019-08-21   \n",
       "9   /pWt1iRuhNpeVDNP2QiUT2C5OiBt.jpg   2019-09-12   \n",
       "10  /kc2cvuqESIiRX5QoZOoMTBq18kQ.jpg   2019-09-13   \n",
       "11  /udDclJoHjfjb8Ekgsd4FDteOkCU.jpg   2019-10-02   \n",
       "12  /kvpNZAQow5es1tSY6XW2jAZuPPG.jpg   2019-08-01   \n",
       "13  /2bXbqYdUdNVa8VIWXVfclP2ICtT.jpg   2019-07-12   \n",
       "14  /sG5NI6TMNR9ftOdTIXmG0hrBYSY.jpg   2019-09-12   \n",
       "15  /pThyQovXQrw2m0s9x82twj48Jq4.jpg   2019-11-27   \n",
       "16  /kTQ3J8oTTKofAVLYnds2cHUz9KO.jpg   2019-09-19   \n",
       "17  /or06FN3Dka5tukK1e9sl16pB3iy.jpg   2019-04-24   \n",
       "18  /8NwONmcJmPr0w9A176JorJ3tbJx.jpg   2019-09-12   \n",
       "19  /lcq8dVxeeOqHvvgcte707K0KVx5.jpg   2019-06-28   \n",
       "\n",
       "                                    title  video  vote_average  vote_count  \n",
       "0                            The Irishman  False           8.3         360  \n",
       "1        Once Upon a Time... in Hollywood  False           7.5        2811  \n",
       "2                                Hustlers  False           6.2         493  \n",
       "3                              Abominable  False           7.1         187  \n",
       "4                               Frozen II  False           7.0         378  \n",
       "5                            Ready or Not  False           6.8         408  \n",
       "6                          It Chapter Two  False           6.8        2173  \n",
       "7                            Holiday Rush  False           4.7           3  \n",
       "8                        Angel Has Fallen  False           5.8         691  \n",
       "9                           Downton Abbey  False           7.1         221  \n",
       "10                                 Freaks  False           6.8          11  \n",
       "11                                  Joker  False           8.4        6016  \n",
       "12  Fast & Furious Presents: Hobbs & Shaw  False           6.6        2023  \n",
       "13                          The Lion King  False           7.1        3707  \n",
       "14                             The Report  False           6.7          13  \n",
       "15                             Knives Out  False           7.8          55  \n",
       "16                      Rambo: Last Blood  False           5.9         576  \n",
       "17                      Avengers: Endgame  False           8.3       10313  \n",
       "18                          The Goldfinch  False           6.9          65  \n",
       "19              Spider-Man: Far from Home  False           7.6        5177  "
      ]
     },
     "execution_count": 81,
     "metadata": {},
     "output_type": "execute_result"
    }
   ],
   "source": [
    "df"
   ]
  },
  {
   "cell_type": "code",
   "execution_count": 82,
   "metadata": {},
   "outputs": [
    {
     "data": {
      "text/html": [
       "<div>\n",
       "<style scoped>\n",
       "    .dataframe tbody tr th:only-of-type {\n",
       "        vertical-align: middle;\n",
       "    }\n",
       "\n",
       "    .dataframe tbody tr th {\n",
       "        vertical-align: top;\n",
       "    }\n",
       "\n",
       "    .dataframe thead th {\n",
       "        text-align: right;\n",
       "    }\n",
       "</style>\n",
       "<table border=\"1\" class=\"dataframe\">\n",
       "  <thead>\n",
       "    <tr style=\"text-align: right;\">\n",
       "      <th></th>\n",
       "      <th>title</th>\n",
       "      <th>id</th>\n",
       "    </tr>\n",
       "  </thead>\n",
       "  <tbody>\n",
       "    <tr>\n",
       "      <th>0</th>\n",
       "      <td>The Irishman</td>\n",
       "      <td>398978</td>\n",
       "    </tr>\n",
       "    <tr>\n",
       "      <th>1</th>\n",
       "      <td>Once Upon a Time... in Hollywood</td>\n",
       "      <td>466272</td>\n",
       "    </tr>\n",
       "    <tr>\n",
       "      <th>2</th>\n",
       "      <td>Hustlers</td>\n",
       "      <td>540901</td>\n",
       "    </tr>\n",
       "    <tr>\n",
       "      <th>3</th>\n",
       "      <td>Abominable</td>\n",
       "      <td>431580</td>\n",
       "    </tr>\n",
       "    <tr>\n",
       "      <th>4</th>\n",
       "      <td>Frozen II</td>\n",
       "      <td>330457</td>\n",
       "    </tr>\n",
       "    <tr>\n",
       "      <th>5</th>\n",
       "      <td>Ready or Not</td>\n",
       "      <td>567609</td>\n",
       "    </tr>\n",
       "    <tr>\n",
       "      <th>6</th>\n",
       "      <td>It Chapter Two</td>\n",
       "      <td>474350</td>\n",
       "    </tr>\n",
       "    <tr>\n",
       "      <th>7</th>\n",
       "      <td>Holiday Rush</td>\n",
       "      <td>639609</td>\n",
       "    </tr>\n",
       "    <tr>\n",
       "      <th>8</th>\n",
       "      <td>Angel Has Fallen</td>\n",
       "      <td>423204</td>\n",
       "    </tr>\n",
       "    <tr>\n",
       "      <th>9</th>\n",
       "      <td>Downton Abbey</td>\n",
       "      <td>535544</td>\n",
       "    </tr>\n",
       "    <tr>\n",
       "      <th>10</th>\n",
       "      <td>Freaks</td>\n",
       "      <td>539892</td>\n",
       "    </tr>\n",
       "    <tr>\n",
       "      <th>11</th>\n",
       "      <td>Joker</td>\n",
       "      <td>475557</td>\n",
       "    </tr>\n",
       "    <tr>\n",
       "      <th>12</th>\n",
       "      <td>Fast &amp; Furious Presents: Hobbs &amp; Shaw</td>\n",
       "      <td>384018</td>\n",
       "    </tr>\n",
       "    <tr>\n",
       "      <th>13</th>\n",
       "      <td>The Lion King</td>\n",
       "      <td>420818</td>\n",
       "    </tr>\n",
       "    <tr>\n",
       "      <th>14</th>\n",
       "      <td>The Report</td>\n",
       "      <td>524348</td>\n",
       "    </tr>\n",
       "    <tr>\n",
       "      <th>15</th>\n",
       "      <td>Knives Out</td>\n",
       "      <td>546554</td>\n",
       "    </tr>\n",
       "    <tr>\n",
       "      <th>16</th>\n",
       "      <td>Rambo: Last Blood</td>\n",
       "      <td>522938</td>\n",
       "    </tr>\n",
       "    <tr>\n",
       "      <th>17</th>\n",
       "      <td>Avengers: Endgame</td>\n",
       "      <td>299534</td>\n",
       "    </tr>\n",
       "    <tr>\n",
       "      <th>18</th>\n",
       "      <td>The Goldfinch</td>\n",
       "      <td>472674</td>\n",
       "    </tr>\n",
       "    <tr>\n",
       "      <th>19</th>\n",
       "      <td>Spider-Man: Far from Home</td>\n",
       "      <td>429617</td>\n",
       "    </tr>\n",
       "  </tbody>\n",
       "</table>\n",
       "</div>"
      ],
      "text/plain": [
       "                                    title      id\n",
       "0                            The Irishman  398978\n",
       "1        Once Upon a Time... in Hollywood  466272\n",
       "2                                Hustlers  540901\n",
       "3                              Abominable  431580\n",
       "4                               Frozen II  330457\n",
       "5                            Ready or Not  567609\n",
       "6                          It Chapter Two  474350\n",
       "7                            Holiday Rush  639609\n",
       "8                        Angel Has Fallen  423204\n",
       "9                           Downton Abbey  535544\n",
       "10                                 Freaks  539892\n",
       "11                                  Joker  475557\n",
       "12  Fast & Furious Presents: Hobbs & Shaw  384018\n",
       "13                          The Lion King  420818\n",
       "14                             The Report  524348\n",
       "15                             Knives Out  546554\n",
       "16                      Rambo: Last Blood  522938\n",
       "17                      Avengers: Endgame  299534\n",
       "18                          The Goldfinch  472674\n",
       "19              Spider-Man: Far from Home  429617"
      ]
     },
     "execution_count": 82,
     "metadata": {},
     "output_type": "execute_result"
    }
   ],
   "source": [
    "df[['title','id']]"
   ]
  },
  {
   "cell_type": "markdown",
   "metadata": {},
   "source": [
    "## Get Movie Review for movie id 550"
   ]
  },
  {
   "cell_type": "code",
   "execution_count": 2,
   "metadata": {},
   "outputs": [],
   "source": [
    "url=\"https://api.themoviedb.org/3/movie/550/reviews?[My_API_KEY]\"\n",
    "response=requests.get(url)\n",
    "data=response.json()\n",
    "rows=data[\"results\"]\n",
    "df=pd.DataFrame(rows)"
   ]
  },
  {
   "cell_type": "code",
   "execution_count": 3,
   "metadata": {},
   "outputs": [
    {
     "data": {
      "text/html": [
       "<div>\n",
       "<style scoped>\n",
       "    .dataframe tbody tr th:only-of-type {\n",
       "        vertical-align: middle;\n",
       "    }\n",
       "\n",
       "    .dataframe tbody tr th {\n",
       "        vertical-align: top;\n",
       "    }\n",
       "\n",
       "    .dataframe thead th {\n",
       "        text-align: right;\n",
       "    }\n",
       "</style>\n",
       "<table border=\"1\" class=\"dataframe\">\n",
       "  <thead>\n",
       "    <tr style=\"text-align: right;\">\n",
       "      <th></th>\n",
       "      <th>author</th>\n",
       "      <th>content</th>\n",
       "      <th>id</th>\n",
       "      <th>url</th>\n",
       "    </tr>\n",
       "  </thead>\n",
       "  <tbody>\n",
       "    <tr>\n",
       "      <th>0</th>\n",
       "      <td>Goddard</td>\n",
       "      <td>Pretty awesome movie.  It shows what one crazy...</td>\n",
       "      <td>5b1c13b9c3a36848f2026384</td>\n",
       "      <td>https://www.themoviedb.org/review/5b1c13b9c3a3...</td>\n",
       "    </tr>\n",
       "    <tr>\n",
       "      <th>1</th>\n",
       "      <td>Brett Pascoe</td>\n",
       "      <td>In my top 5 of all time favourite movies. Grea...</td>\n",
       "      <td>5b3e1ba1925141144c007f17</td>\n",
       "      <td>https://www.themoviedb.org/review/5b3e1ba19251...</td>\n",
       "    </tr>\n",
       "  </tbody>\n",
       "</table>\n",
       "</div>"
      ],
      "text/plain": [
       "         author                                            content  \\\n",
       "0       Goddard  Pretty awesome movie.  It shows what one crazy...   \n",
       "1  Brett Pascoe  In my top 5 of all time favourite movies. Grea...   \n",
       "\n",
       "                         id                                                url  \n",
       "0  5b1c13b9c3a36848f2026384  https://www.themoviedb.org/review/5b1c13b9c3a3...  \n",
       "1  5b3e1ba1925141144c007f17  https://www.themoviedb.org/review/5b3e1ba19251...  "
      ]
     },
     "execution_count": 3,
     "metadata": {},
     "output_type": "execute_result"
    }
   ],
   "source": [
    "df"
   ]
  },
  {
   "cell_type": "markdown",
   "metadata": {},
   "source": [
    "## Get Movie Review for movie id 420818"
   ]
  },
  {
   "cell_type": "code",
   "execution_count": 4,
   "metadata": {},
   "outputs": [],
   "source": [
    "url=\"https://api.themoviedb.org/3/movie/420818/reviews?[MY_API_KEY]\"\n",
    "response=requests.get(url)\n",
    "data=response.json()\n",
    "rows=data[\"results\"]\n",
    "df=pd.DataFrame(rows)"
   ]
  },
  {
   "cell_type": "code",
   "execution_count": 5,
   "metadata": {},
   "outputs": [
    {
     "data": {
      "text/html": [
       "<div>\n",
       "<style scoped>\n",
       "    .dataframe tbody tr th:only-of-type {\n",
       "        vertical-align: middle;\n",
       "    }\n",
       "\n",
       "    .dataframe tbody tr th {\n",
       "        vertical-align: top;\n",
       "    }\n",
       "\n",
       "    .dataframe thead th {\n",
       "        text-align: right;\n",
       "    }\n",
       "</style>\n",
       "<table border=\"1\" class=\"dataframe\">\n",
       "  <thead>\n",
       "    <tr style=\"text-align: right;\">\n",
       "      <th></th>\n",
       "      <th>author</th>\n",
       "      <th>content</th>\n",
       "      <th>id</th>\n",
       "      <th>url</th>\n",
       "    </tr>\n",
       "  </thead>\n",
       "  <tbody>\n",
       "    <tr>\n",
       "      <th>0</th>\n",
       "      <td>SWITCH.</td>\n",
       "      <td>‘The Lion King’ is a catastrophe; a new low in...</td>\n",
       "      <td>5d2ddc7d6a300b0011a469df</td>\n",
       "      <td>https://www.themoviedb.org/review/5d2ddc7d6a30...</td>\n",
       "    </tr>\n",
       "    <tr>\n",
       "      <th>1</th>\n",
       "      <td>msbreviews</td>\n",
       "      <td>If you enjoy reading my Spoiler-Free reviews, ...</td>\n",
       "      <td>5d31d3991d78f2000ee0b492</td>\n",
       "      <td>https://www.themoviedb.org/review/5d31d3991d78...</td>\n",
       "    </tr>\n",
       "  </tbody>\n",
       "</table>\n",
       "</div>"
      ],
      "text/plain": [
       "       author                                            content  \\\n",
       "0     SWITCH.  ‘The Lion King’ is a catastrophe; a new low in...   \n",
       "1  msbreviews  If you enjoy reading my Spoiler-Free reviews, ...   \n",
       "\n",
       "                         id                                                url  \n",
       "0  5d2ddc7d6a300b0011a469df  https://www.themoviedb.org/review/5d2ddc7d6a30...  \n",
       "1  5d31d3991d78f2000ee0b492  https://www.themoviedb.org/review/5d31d3991d78...  "
      ]
     },
     "execution_count": 5,
     "metadata": {},
     "output_type": "execute_result"
    }
   ],
   "source": [
    "df"
   ]
  },
  {
   "cell_type": "code",
   "execution_count": 6,
   "metadata": {},
   "outputs": [],
   "source": [
    "review_list=df['content']"
   ]
  },
  {
   "cell_type": "code",
   "execution_count": 91,
   "metadata": {},
   "outputs": [
    {
     "data": {
      "text/plain": [
       "\"‘The Lion King’ is a catastrophe; a new low in the ever-diminishing returns of Disney’s endless run of remakes. There’s nothing redeeming about it, with every decision either ill-conceived or mishandled to the point of incompetence. In Favreau’s hands, ‘The Lion King’ is rendered thunderously dull, lacking in any tension or complex characterisation, taking a laboriously long time to go nowhere and never once justifying its contentious existence. Even with my dislike of the original, I was flabbergasted at how thoroughly this film never attempts to understand why so many people love the 1994 film. If nothing else, this film makes it abundantly clear that Disney has no interest in making great cinema or honouring its own legacy. They don’t care whether the film is good or whether you enjoy it. All they care about is using nostalgia to trick you into buying your ticket so they can make as much money off you as they can, and maybe if they throw some recognisable iconic moments from your childhood on the screen, they may even be able to fool you into thinking you’d had a good time. ‘The Lion King’ is the ultimate diabolical apex of the commercialisation of nostalgia, and its inevitable box office success will just prove how easily we continue to be duped and how thoroughly they have trained us to not care about the quality of what we see. If this really is the future of mainstream cinema, then we are in serious, serious trouble.\\r\\n- Daniel Lammin\\r\\n\\r\\nRead Daniel's full article...\\r\\nhttps://www.maketheswitch.com.au/article/review-the-lion-king-a-catastrophic-and-soulless-remake-of-a-disney-classic\""
      ]
     },
     "execution_count": 91,
     "metadata": {},
     "output_type": "execute_result"
    }
   ],
   "source": [
    "review_list[0]"
   ]
  },
  {
   "cell_type": "code",
   "execution_count": null,
   "metadata": {},
   "outputs": [],
   "source": []
  },
  {
   "cell_type": "markdown",
   "metadata": {},
   "source": [
    "## Get Movie Review for movie id 466272"
   ]
  },
  {
   "cell_type": "code",
   "execution_count": null,
   "metadata": {},
   "outputs": [],
   "source": []
  },
  {
   "cell_type": "code",
   "execution_count": 76,
   "metadata": {},
   "outputs": [],
   "source": [
    "url=\"https://api.themoviedb.org/3/movie/466272/reviews?[MY_API_KEY]\"\n",
    "response=requests.get(url)\n",
    "data=response.json()\n",
    "rows=data[\"results\"]\n",
    "df=pd.DataFrame(rows)"
   ]
  },
  {
   "cell_type": "code",
   "execution_count": 77,
   "metadata": {},
   "outputs": [
    {
     "data": {
      "text/html": [
       "<div>\n",
       "<style scoped>\n",
       "    .dataframe tbody tr th:only-of-type {\n",
       "        vertical-align: middle;\n",
       "    }\n",
       "\n",
       "    .dataframe tbody tr th {\n",
       "        vertical-align: top;\n",
       "    }\n",
       "\n",
       "    .dataframe thead th {\n",
       "        text-align: right;\n",
       "    }\n",
       "</style>\n",
       "<table border=\"1\" class=\"dataframe\">\n",
       "  <thead>\n",
       "    <tr style=\"text-align: right;\">\n",
       "      <th></th>\n",
       "      <th>author</th>\n",
       "      <th>content</th>\n",
       "      <th>id</th>\n",
       "      <th>url</th>\n",
       "    </tr>\n",
       "  </thead>\n",
       "  <tbody>\n",
       "    <tr>\n",
       "      <th>0</th>\n",
       "      <td>SWITCH.</td>\n",
       "      <td>The movie isn’t for everyone, of course, but i...</td>\n",
       "      <td>5d4a57a8439be10015910b94</td>\n",
       "      <td>https://www.themoviedb.org/review/5d4a57a8439b...</td>\n",
       "    </tr>\n",
       "    <tr>\n",
       "      <th>1</th>\n",
       "      <td>msbreviews</td>\n",
       "      <td>If you enjoy reading my Spoiler-Free reviews, ...</td>\n",
       "      <td>5d5e9465f263ba752c944e09</td>\n",
       "      <td>https://www.themoviedb.org/review/5d5e9465f263...</td>\n",
       "    </tr>\n",
       "    <tr>\n",
       "      <th>2</th>\n",
       "      <td>Gimly</td>\n",
       "      <td>I'm not here to explain _Once Upon a Time In H...</td>\n",
       "      <td>5d625e316dea3a746b9457e8</td>\n",
       "      <td>https://www.themoviedb.org/review/5d625e316dea...</td>\n",
       "    </tr>\n",
       "    <tr>\n",
       "      <th>3</th>\n",
       "      <td>Wuchak</td>\n",
       "      <td>***Tarantino’s revenge on the Manson psychos**...</td>\n",
       "      <td>5d7ee2a83c43440998a16f94</td>\n",
       "      <td>https://www.themoviedb.org/review/5d7ee2a83c43...</td>\n",
       "    </tr>\n",
       "  </tbody>\n",
       "</table>\n",
       "</div>"
      ],
      "text/plain": [
       "       author                                            content  \\\n",
       "0     SWITCH.  The movie isn’t for everyone, of course, but i...   \n",
       "1  msbreviews  If you enjoy reading my Spoiler-Free reviews, ...   \n",
       "2       Gimly  I'm not here to explain _Once Upon a Time In H...   \n",
       "3      Wuchak  ***Tarantino’s revenge on the Manson psychos**...   \n",
       "\n",
       "                         id                                                url  \n",
       "0  5d4a57a8439be10015910b94  https://www.themoviedb.org/review/5d4a57a8439b...  \n",
       "1  5d5e9465f263ba752c944e09  https://www.themoviedb.org/review/5d5e9465f263...  \n",
       "2  5d625e316dea3a746b9457e8  https://www.themoviedb.org/review/5d625e316dea...  \n",
       "3  5d7ee2a83c43440998a16f94  https://www.themoviedb.org/review/5d7ee2a83c43...  "
      ]
     },
     "execution_count": 77,
     "metadata": {},
     "output_type": "execute_result"
    }
   ],
   "source": [
    "df"
   ]
  },
  {
   "cell_type": "code",
   "execution_count": 78,
   "metadata": {},
   "outputs": [],
   "source": [
    "review_list=df['content']"
   ]
  },
  {
   "cell_type": "code",
   "execution_count": 79,
   "metadata": {},
   "outputs": [
    {
     "data": {
      "text/plain": [
       "'***Tarantino’s revenge on the Manson psychos***\\r\\n\\r\\nIn the late 60s, Rick Dalton (Leonardo DiCaprio), a popular TV Western actor, finds his career taking a downturn and tries to recover with the encouragement of his kick-axx stunt double and best friend, Cliff Booth (Brad Pitt). Sharon Tate (Margo Robbie) & Roman Polanski are neighbors with Jay Sebring always hanging around (Emile Hirsch). Meanwhile the Manson Family nutjobs are lurking in the background, prepping to attack. \\r\\n\\r\\n“Once Upon a Time… in Hollywood” (2019) is Quentin Tarantino’s 9th full film and, for me, ranks somewhere in the middle of his oeuvre. It may not be as great as “Pulp Fiction” (1994) and “Django Unchained” (2012), but it places well with “Inglourious Basterds” (2009), “Jackie Brown” (1997) and “The Hateful Eight” (2015).  \\r\\n\\r\\nA famous director once succinctly defined a great movie as such: Three good scenes, no bad scenes. While the second part of this definition is debatable with \"Once Upon a Time... in Hollywood,” seeing as how the movie could\\'ve certainly been tightened up (there are some dull sequences), there\\'s no doubt that it fulfills the first part. \\r\\n\\r\\nMy three favorite scenes are: The amusing satirical Bruce Lee confrontation; the great Spahn Ranch episode, which effectively creates an underlying sense of menace; and, of course, the entertaining hippie attack in the final act.\\r\\n\\r\\nThankfully, there are numerous additional gems: The friendship and respect of Rick and Cliff; the audacious flamethrower sequence; Rick\\'s breakdown with the precocious girl actor (not actress); the beautiful women throughout; the great cast, including several celeb cameos; the entertaining soundtrack; Brandi, the pit bull; Rick\\'s meltdown in his trailer; Rick finally pulling off a quality acting scene via ad libbing; George Spahn not remembering Cliff; everything (surprisingly) turning out to be precisely as so-and-so said; the allusion to what MAY have happened to Cliff\\'s nagging wife (Rebecca Gayheart) on the boat; the way it should have turned out on that infamous night; and the heartwarming close,\\r\\n\\r\\nThe film runs 2 hour, 41 minutes, and was shot in the Los Angeles area.\\r\\n\\r\\nGRADE: A-'"
      ]
     },
     "execution_count": 79,
     "metadata": {},
     "output_type": "execute_result"
    }
   ],
   "source": [
    "review_list[3]"
   ]
  },
  {
   "cell_type": "code",
   "execution_count": 44,
   "metadata": {},
   "outputs": [
    {
     "data": {
      "text/plain": [
       "'If you enjoy reading my Spoiler-Free reviews, please follow my blog :)\\r\\n\\r\\nQuentin Tarantino is one of the best filmmakers of all-time. He has undeniable talent behind the camera, and his movies are fated to leave a mark in each year they’re released. In addition to that, he’s also an extraordinary screenwriter, as Once Upon a Time in Hollywood proves once again. His knowledge of the early decades of film is vast, so every feature he produces is always going to be filled with references to those “fairy tale” years. And that’s precisely what this movie is: a fairy tale in Hollywood, hence its title. Let me just leave this here right off the bat: I’m not going to address any controversy surrounding this film (namely, the whole Bruce Lee depiction and the Manson Family, in general), as I’m always fair and impartial to the movie I’m reviewing. Moving on …\\r\\n\\r\\nMy knowledge of the 60s isn’t that good. Obviously, I know the whole Sharon Tate story, as well as the famous Manson murders, but when it comes to actual films from that decade, well … Probably, I only know a few by name, a classic scene, or a memorable soundtrack. Tarantino uses his large runtime to place tons of references to that period, and that’s one of the reasons the first act of the movie drags. There’s a lot of time spent with characters just driving cars while listening to music (references in the songs), wide shots of the city as they drive by (references in the buildings), or even just playing an LP and dancing to it (reference in the songs, again).\\r\\n\\r\\nI understand that these mean something, but if they don’t develop the character in any way, then these are just Easter Eggs and have no impact on the actual narrative. The first hour or so is filled with sequences which sole purpose is to show how much Tarantino knows about that time, and there’s nothing wrong with it, as long as it tells a story. That’s the second issue I have with the first act: it takes too long to establish its characters, and there’s no apparent objective within the story. It feels like a person just strolling around with no destination, which in itself isn’t a bad thing. But if you put together repetitive sequences plus a story that no one knows where it’s going or how it connects to the only thing people are actually expecting (the Sharon Tate event), then you’ll bore the hell out of the audience (a lot of people constantly left my theater to get more food or something, and they weren’t in a hurry).\\r\\n\\r\\nNevertheless, from the moment we start understanding who Rick Dalton and Cliff Booth are, what they do, what they did, and what they want with their lives, then the film becomes incredibly captivating. It’s definitely a character-driven story. It’s a fairy tale where Rick tries his best to overcome his own personal issues to be the very best movie star, after being on an exponentially negative path. Cliff, as his stunt double, lives off of his buddy by doing everything he needs around the house and everywhere else. These two are inseparable, and their scenes are always filled with laughter and joy, even in the darkest moments. OUATIH works because of its beautifully-written characters.\\r\\n\\r\\nIf you don’t care about them, then you won’t enjoy the film at all. In addition to this, if you don’t know anything regarding the art of filmmaking, then you’ll probably hate it since it will become extremely dull. It’s one of those movies that anyone can like. However, for someone who knows and understands how films are made, it will always be a better time at the theater. You can love this movie, sure. But if you love filmmaking and you have knowledge of its techniques, you’ll love it even more. There are so many technical achievements worthy of appreciation that I can’t get to all of them, so I’ll just address two of my favorites. The first has to be the black-and-white flicks inside the actual film. Putting Leonardo DiCaprio acting on classic westerns with over-the-top performances is an absolute delight. Watching those features in a 4:3 black-and-white screen, filled with classic sound effects, and cheesy one-liners … Wonderful.\\r\\n\\r\\nThe second allows for my favorite scenes of the whole movie: the extensive one-take dialogues. I mean, 10 or 15-minute sequences where DiCaprio just gives it his all. This is how every single film should be done. There’s even a joke in the movie where Rick criticizes a particular type of filmmaking because they would film every character separately saying their lines and then editing them together. Unfortunately, that’s how most features are done today. Therefore, from watching a simple dialogue scene with DiCaprio and Julia Butters (a 10-year-old little girl!) to a bar sequence which belongs to a movie Rick is filming (this one even has Rick asking his lines, and the camera has to go back to its starting point), everything with no cuts whatsoever … What can I ask more from a director?!\\r\\n\\r\\nObviously, if this is a character-driven narrative, the cast has to be genuinely compelling. Leonardo DiCaprio, Brad Pitt, Margot Robbie … I mean, do I even need to explain how phenomenal they are? DiCaprio proves once again he’s one of the greatest actors of all-time. The ability that he has to put 200% in every single scene is unbelievable. I even started to tear up once his character is able to find his footing, solely due to the actor’s performance. The Oscar nom is guaranteed, let’s see about the win. Brad Pitt also has tons of nominations on his lap with an astonishing supporting display. He has a subtle performance, but it’s pretty incredible how much he can transmit to the audience by putting (apparently) so little effort. Margot Robbie doesn’t have that much screentime, but her character had the simple objective of showing how glamorous and dreamy an actress’ life could be at that time, so she didn’t exactly need to deliver her A-game.\\r\\n\\r\\nIt’s always good to see Al Pacino (Marvin Schwarz) on-screen, and I’m thrilled that Margaret Qualley (Pussycat), who I know from The Leftovers (one of the most underrated TV shows of the century), is finally getting some recognition. Technically, like I said above, it’s close to a masterpiece. It’s Tarantino, everyone knows what he’s capable of, but having in mind his most recent features, it’s a pleasant surprise and evidence of quality to the naysayers that he was able to produce a film with less bloody action. There are terrific demonstrations of great cinematography (Robert Richardson), and the editing is always impeccable in Tarantino’s features (this time due to Fred Raskin). The score is addictive, and it carries a very significant role in the movie. I would say that if Tarantino was able to shorten its runtime and control its pacing better, this would be a technically perfect film.\\r\\n\\r\\nAll in all, Once Upon a Time in Hollywood isn’t the best Quentin Tarantino’s movie, but it’s undoubtedly one of the year’s best. Filled with award-winning lead performances (second Oscar for DiCaprio, please), this character-driven story is packed with references to the 60s which will be the divisive point in whether people will enjoy the film or not. Its first act is slow and takes too long to set up its story, but from the moment it’s able to find its footing, it’s an entertaining ride. If you love filmmaking and you know the insides of the art, Tarantino delivers a near-perfect technical production. Its alternate ending to real-life events is meant to be controversial, but for me, it’s a vision of how everything should have happened if the world was fair or, indeed, a fairy tale … in Hollywood.\\r\\n\\r\\nRating: A-'"
      ]
     },
     "execution_count": 44,
     "metadata": {},
     "output_type": "execute_result"
    }
   ],
   "source": [
    "review_list[1]"
   ]
  },
  {
   "cell_type": "code",
   "execution_count": 45,
   "metadata": {},
   "outputs": [
    {
     "data": {
      "text/plain": [
       "\"I'm not here to explain _Once Upon a Time In Hollywood_, just to enjoy it.\\r\\n\\r\\n_Final rating:★★★★ - Very strong appeal. A personal favourite._\""
      ]
     },
     "execution_count": 45,
     "metadata": {},
     "output_type": "execute_result"
    }
   ],
   "source": [
    "review_list[2]"
   ]
  },
  {
   "cell_type": "markdown",
   "metadata": {},
   "source": [
    "## Get Movie review for movie id 567609"
   ]
  },
  {
   "cell_type": "code",
   "execution_count": 72,
   "metadata": {},
   "outputs": [],
   "source": [
    "url=\"https://api.themoviedb.org/3/movie/567609/reviews?[My_API_KEY]\"\n",
    "response=requests.get(url)\n",
    "data=response.json()\n",
    "rows=data[\"results\"]\n",
    "df=pd.DataFrame(rows)"
   ]
  },
  {
   "cell_type": "code",
   "execution_count": 73,
   "metadata": {},
   "outputs": [
    {
     "data": {
      "text/html": [
       "<div>\n",
       "<style scoped>\n",
       "    .dataframe tbody tr th:only-of-type {\n",
       "        vertical-align: middle;\n",
       "    }\n",
       "\n",
       "    .dataframe tbody tr th {\n",
       "        vertical-align: top;\n",
       "    }\n",
       "\n",
       "    .dataframe thead th {\n",
       "        text-align: right;\n",
       "    }\n",
       "</style>\n",
       "<table border=\"1\" class=\"dataframe\">\n",
       "  <thead>\n",
       "    <tr style=\"text-align: right;\">\n",
       "      <th></th>\n",
       "      <th>author</th>\n",
       "      <th>content</th>\n",
       "      <th>id</th>\n",
       "      <th>url</th>\n",
       "    </tr>\n",
       "  </thead>\n",
       "  <tbody>\n",
       "    <tr>\n",
       "      <th>0</th>\n",
       "      <td>msbreviews</td>\n",
       "      <td>If you enjoy reading my Spoiler-Free reviews, ...</td>\n",
       "      <td>5d5d7b1ba3d02700160bfc08</td>\n",
       "      <td>https://www.themoviedb.org/review/5d5d7b1ba3d0...</td>\n",
       "    </tr>\n",
       "    <tr>\n",
       "      <th>1</th>\n",
       "      <td>Stephen Campbell</td>\n",
       "      <td>**_An entertaining horror-comedy that takes ai...</td>\n",
       "      <td>5da13750b84f94001597c5d4</td>\n",
       "      <td>https://www.themoviedb.org/review/5da13750b84f...</td>\n",
       "    </tr>\n",
       "    <tr>\n",
       "      <th>2</th>\n",
       "      <td>SWITCH.</td>\n",
       "      <td>‘Ready or Not’ doesn’t sport as many laughs as...</td>\n",
       "      <td>5db02cac09dda40011e0dd46</td>\n",
       "      <td>https://www.themoviedb.org/review/5db02cac09dd...</td>\n",
       "    </tr>\n",
       "  </tbody>\n",
       "</table>\n",
       "</div>"
      ],
      "text/plain": [
       "             author                                            content  \\\n",
       "0        msbreviews  If you enjoy reading my Spoiler-Free reviews, ...   \n",
       "1  Stephen Campbell  **_An entertaining horror-comedy that takes ai...   \n",
       "2           SWITCH.  ‘Ready or Not’ doesn’t sport as many laughs as...   \n",
       "\n",
       "                         id                                                url  \n",
       "0  5d5d7b1ba3d02700160bfc08  https://www.themoviedb.org/review/5d5d7b1ba3d0...  \n",
       "1  5da13750b84f94001597c5d4  https://www.themoviedb.org/review/5da13750b84f...  \n",
       "2  5db02cac09dda40011e0dd46  https://www.themoviedb.org/review/5db02cac09dd...  "
      ]
     },
     "execution_count": 73,
     "metadata": {},
     "output_type": "execute_result"
    }
   ],
   "source": [
    "df"
   ]
  },
  {
   "cell_type": "code",
   "execution_count": 74,
   "metadata": {},
   "outputs": [],
   "source": [
    "review_list=df['content']"
   ]
  },
  {
   "cell_type": "code",
   "execution_count": 49,
   "metadata": {},
   "outputs": [
    {
     "data": {
      "text/plain": [
       "0    If you enjoy reading my Spoiler-Free reviews, ...\n",
       "1    **_An entertaining horror-comedy that takes ai...\n",
       "2    ‘Ready or Not’ doesn’t sport as many laughs as...\n",
       "Name: content, dtype: object"
      ]
     },
     "execution_count": 49,
     "metadata": {},
     "output_type": "execute_result"
    }
   ],
   "source": [
    "review_list"
   ]
  },
  {
   "cell_type": "code",
   "execution_count": 93,
   "metadata": {},
   "outputs": [
    {
     "data": {
      "text/plain": [
       "\"‘The Lion King’ is a catastrophe; a new low in the ever-diminishing returns of Disney’s endless run of remakes. There’s nothing redeeming about it, with every decision either ill-conceived or mishandled to the point of incompetence. In Favreau’s hands, ‘The Lion King’ is rendered thunderously dull, lacking in any tension or complex characterisation, taking a laboriously long time to go nowhere and never once justifying its contentious existence. Even with my dislike of the original, I was flabbergasted at how thoroughly this film never attempts to understand why so many people love the 1994 film. If nothing else, this film makes it abundantly clear that Disney has no interest in making great cinema or honouring its own legacy. They don’t care whether the film is good or whether you enjoy it. All they care about is using nostalgia to trick you into buying your ticket so they can make as much money off you as they can, and maybe if they throw some recognisable iconic moments from your childhood on the screen, they may even be able to fool you into thinking you’d had a good time. ‘The Lion King’ is the ultimate diabolical apex of the commercialisation of nostalgia, and its inevitable box office success will just prove how easily we continue to be duped and how thoroughly they have trained us to not care about the quality of what we see. If this really is the future of mainstream cinema, then we are in serious, serious trouble.\\r\\n- Daniel Lammin\\r\\n\\r\\nRead Daniel's full article...\\r\\nhttps://www.maketheswitch.com.au/article/review-the-lion-king-a-catastrophic-and-soulless-remake-of-a-disney-classic\""
      ]
     },
     "execution_count": 93,
     "metadata": {},
     "output_type": "execute_result"
    }
   ],
   "source": [
    "review_list[0]"
   ]
  },
  {
   "cell_type": "code",
   "execution_count": 51,
   "metadata": {},
   "outputs": [
    {
     "data": {
      "text/plain": [
       "'**_An entertaining horror-comedy that takes aim at the decadence and insularity of the 1%_**\\r\\n\\r\\n>_So distribution should undo excess,/And each man have enough._\\r\\n\\r\\n- William Shakespeare; _His True Chronicle Historie of the life and death of King Lear, and his three Daughters. With the vnfortunate life of Edgar, sonne and heire to the Earle of Gloster, and his sullen and assumed humour of Tom of Bedlam_, 4.i.73-74 (1605-1606)\\r\\n\\r\\n>_In the long run, men inevitably become the victims of their wealth. They adapt their lives and habits to their money, not their money to their lives. It preoccupies t__heir thoughts, creates artificial needs, and draws a curtain between them and the world._\\r\\n\\r\\n- Herbert Croly; _The Promise of American Life_ (1909)\\r\\n\\r\\n>_I don\\'t want to be married just to be married. I can\\'t think of anything lonelier than spending the rest of my life with someone I can\\'t talk to, or worse, someone I can\\'t be silent with._\\r\\n\\r\\n- Mary Ann Shaffer; _The Guernsey Literary and Potato Peel Pie Society_ (2008)\\r\\n\\r\\nOn August 3, 2018, Patrick Crusius murdered 22 people and injured 24 in a mass shooting in El Paso, TX. Just over 12 hours later, Connor Betts murdered nine people and injured 17 in a mass shooting in Dayton, OH. On August 10, Universal Pictures announced they had pulled Craig Zobel\\'s eagerly awaited film _The Hunt_ from its scheduled release date on September 27. Telling the story of 12 strangers who are hunted for the amusement of a group of wealthy elites, in the wake of the shootings, the film had been accused by hysterical conservatives of portraying liberal elites hunting Donald Trump supporters. On August 7, for example, Matt Margolis of _PJ Media_ wrote,\\r\\n\\r\\n>_in the past few days we\\'ve been hearing a lot about how Donald Trump\\'s rhetoric is apparently to blame for the El Paso shooting, yet Hollywood apparently lacked the foresight to think that a movie promoting violence against \"deplorables\" might be in bad taste until after the shootings in El Paso and Dayton._\\r\\n\\r\\nHe also claimed, incorrectly, that the film was originally called _Red State Vs. Blue State_, before concluding,\\r\\n\\r\\n>_apparently, some in Hollywood are more than willing to promote violence against Trump supporters. Meanwhile, Democrats and liberals in the media want us to believe that it\\'s Trump\\'s rhetoric that needs to be toned down._\\r\\n\\r\\nOn August 9, Trump himself tweeted, \"_the movie coming out is made in order to inflame and cause chaos_\" (as opposed to his own balm-like rhetoric, which is renowned for bringing people together), saying of Hollywood in general, \"_they create their own violence, and then try to blame others. They are the true Racists, and are very bad for our Country!_\" (because responding to a mass shooting by condemning a film you haven\\'t seen makes way more sense than, oh, I don\\'t know, tightening gun laws and outlawing the indefensible sale of automatic weaponry to the public. Way more sense).\\r\\n\\r\\nSo, what does any of this have to do with _Ready or Not_? Well, it\\'s just curious that _Ready or Not_ has a very similar plot (elites hunting common folk), yet it has arrived in theatres without the slightest hint of controversy. Of course, despite what right-wing commentators would have us think about _The Hunt_, the theme of elites hunting the less privileged is nothing new. As far as I\\'m aware, it was first explored in Richard Connell\\'s short story \"The Most Dangerous Game\" (1924). And now in _Ready or Not_, except with tongue firmly in cheek. Written by Guy Busick and R. Christopher Murphy (aka Ryan Murphy), and directed by Matt Bettinelli-Olpin and Tyler Gillett, _Ready or Not_ is a horror-comedy and a social satire that comically exaggerates the anxieties attendant with marrying into a wealthy family and mocks the insular nature of such families, so obsessed with their wealth that they\\'ve become disconnected from the real world. And whilst it can be a tad episodic at times, and the manner in which it presents some of its violence is somewhat problematic, this is a very enjoyable and funny film that\\'s well worth checking out.\\r\\n\\r\\nAfter a brief prologue, the film cuts to the wedding day of Grace (an exceptional Samara Weaving) and Alex Le Domas (Mark O\\'Brien). The Le Domas family started out printing playing cards but earned its fortune making board games, and the family has now become decadently wealthy, owning several sports franchises (when Grace asks Alex if they refer to themselves as an \"empire\", he half-jokingly says they prefer the term \"dominion\"). Several years previously, Alex turned his back on the family, even though he\\'s in line to inherit the business, and it\\'s only since he met Grace (a foster child eager to have a family to call her own) that he has started to rebuild bridges. His return to the fold has made his mother Becky (Andie McDowell) especially happy, and she makes sure Grace knows how appreciative she is. Alex\\'s father, Tony (a barely sane Henry Czerny) is more ambivalent; he\\'s polite and respectful to Grace, but she\\'s convinced he doesn\\'t like her. There\\'s no such ambiguity with Helene (a hilariously acerbic Nicky Guadagni), Tony\\'s sister, who makes no bones about the fact that she hates Grace. Elsewhere there\\'s Alex\\'s brother Daniel (Adam Brody), an alcoholic locked in a loveless marriage to Charity (Elyse Levesque), but who is deeply thankful that he has Alex back in his life. Offering Grace a get-out-of-jail card just prior to the wedding, Alex tells her if she wants to leave, he will let her go. She dismisses the offer, however, and the two are wed. Shortly thereafter, Alex and Daniel\\'s cocaine-addicted sister Emilie (a wonderfully hapless Melanie Scrofano) and her husband Fitch Bradley (a scene-stealing Kristian Bruun) arrive at the estate, apologising for missing the ceremony. It\\'s at this point that Alex explains a strange family tradition to Grace – whenever someone new marries into the clan, they must participate in a game, chosen at random by a mechanised box using a deck of cards (Charity got checkers when she married Daniel). Alex is worried that Grace might get the hide and seek card, but Tony assures him that\\'s highly unlikely – stating that in his lifetime, only one person has ever gotten that card; Helene\\'s husband (something of which we saw in the prologue). At a disturbingly austere ceremony, Grace is asked to operate the box and so the game can commence…and she receives the hide and seek card, with Tony explaining that the only way for her to win is to stay hidden until dawn. And so, Grace hides in the mansion, unaware that the family (_sans_ Alex) are arming themselves with crossbows, axes, hunting rifles, and assorted antique weaponry. This is no ordinary game of hide and seek.\\r\\n\\r\\nThe film\\'s various psychoanalytical/satirical subtexts are fairly obvious – a lampooning of blue blood families clueless as to how the real world works, a savage deconstruction of the institution of marriage, and a gynocentric/fempowerment celebration of a woman fighting back against old-world patriarchy. In relation to these last two themes, nowhere are they more apparent than in Grace\\'s wedding dress, that most classic symbol of marriage, which becomes dirtier and more damaged as the film progresses, with costume designer Avery Plewes using the dress to show the stages of Grace\\'s symbolic dismantling of the institution of marriage (to survive the night, she must make the dress more conducive to running and hiding, which involves a lot of ripping and tearing). In this sense, each time Grace evades capture or strikes back against her pursuers, she is chipping away at the foundation of everything in which the Le Domas family believe, quite literally deconstructing the very concepts of marriage and old-world patriarchy.\\r\\n\\r\\nConcerning the film\\'s engagement with wealth, essentially it suggests that, yes, as we all know, the rich are very different from you and I, but could it be that not only are they different, maybe they\\'re actually evil? Maybe their wealth is built on the suffering of others in a very literal sense and maybe the difficulty they have accepting it when someone who they see as their social inferior marries into their circle manifests itself in actual violence. Of course, it\\'s not suggesting this with anything even approaching realism, and much of the film\\'s humour comes from the Le Domas family itself; sure, they\\'re wealthy, evil, violent, and powerful. But so too are they hilariously incompetent. For example, it\\'s been so long since anyone has got the hide and seek card that everyone is a little fuzzy on the rules, and they spend a good chunk of the film arguing with one another about the hunt – people like Fitch and Charity want to use modern weapons, but Tony maintains they have to use antique weaponry, nor are they allowed to use the castle\\'s security cameras to track Grace.\\r\\n\\r\\nThis all goes back to a century-old deal made between the family\\'s original patriarch Victor and a mysterious traveller named Mr Le Bail, who may, or may not, be Satan. Le Bail promised Victor that the family would become hugely wealthy, but only if they maintained the tradition of having new family members play a game on their wedding night, laying out the rules for what was to happen if they got the hide and seek card. Tony argues that the rules can be no different from those originally established by Le Bail, but, really, his argument never amounts to much more than \"_tradition...reasons_\". The film makes no bones about the fact that the family is comically inept, and it gets a lot of laughs out of showing characters trying to get to grips with their weapon – from Fitch taking time out from the hunt to look up \"how to use a crossbow\" videos on YouTube to Emilie accidentally dispatching several maids due to her inability to handle her weapon (more on this in a moment).\\r\\n\\r\\nAnother theme, although one not developed to the extent of the above, is religion. Le Bail, for example, is believed by the family to be a demonic figure, and his name, obviously enough, is an anagram of Belial, the demon from the Tanakh, who is described in _The War of the Sons of Light Against the Sons of Darkness_, one of the Dead Sea Scrolls, as the \"King of Evil\" and the \"Prince of Darkness\", and who would later form the basis for the Christian and Jewish depiction of Satan. On the other hand, Grace\\'s name most likely references the idea of Divine grace, which is defined by _ChristianEducation.org_ as,\\r\\n\\r\\n>_a sharing in the divine life. It is the infused presence of God, a presence that is supernatural, not merely natural. Human persons are not born in a state of grace. And there is nothing we can do ourselves to earn grace. Rather, divine grace is favour, and it is freely bestowed._\\r\\n\\r\\nElsewhere, the film depicts a pit of slaughtered goats, alluding to ritual animal sacrifice, which is a pre-Christian practice. Goats are also important in Christianity, especially in the practice of scapegoating, whereby a goat takes upon them the sins of the community and is cast into the desert, symbolically removing the taint of those sins (as per Leviticus 16:8-10; \"_Aaron shall cast lots upon the two goats; one lot for the LORD, and the other lot for the scapegoat. And Aaron shall bring the goat on which the LORD\\'s lot fell, and offer it as a sin offering. But the goat, on which the lot fell to be the scapegoat, shall be presented alive before the LORD, to make an atonement with him, and to let him go for a scapegoat into the wilderness._\") Along the same lines, Grace injures her hand on a nail, in a veiled reference to the Stigmata. However, whether or not we\\'re supposed to interpret her as a Christ figure is hard to say as, although these references are interesting in isolation, they never really coalesce into anything concrete.\\r\\n\\r\\nLooking at some other problems, despite its themes, the film is, generally speaking, very slight; it\\'s short and it\\'s silly, and it\\'s not going to change your life or lead you down the road of esoteric revolution. The violence is also (somewhat) problematic. The film maintains the stance that the rich are insane and the violence they mete out is contemptible. However, some of the biggest laughs are reserved for Emilie\\'s accidental killing of the maids. And I have to admit, I found the way she haplessly dispatches two of them exceptionally funny (especially her comment after the second one, \"_why does this keep happening to me_\"). Also funny is that after one of the kills, the family are trying to have a conversation, which is continually interrupted by the gurgling of a mortally wounded maid; until Helene takes an axe to her head. And again, I have to admit, I laughed a lot at that scene, even though I recognised that the film was essentially asking the audience to see this violence as funny but some of the violence elsewhere as not so much.\\r\\n\\r\\nIn this sense, it kind of wants to have its cake and eat it. In _Natural Born Killers_ (1994), Oliver Stone gets away with asking the audience to laugh at horrific violence because he\\'s fairly consistent in depicting all violence as funny (whether it\\'s being shot by a bullet that stops in mid-air, getting drowned in a fish tank and simultaneously beaten with a tire-iron, having a perfectly circular hole shot through your hand, or having your head literally ripped off by rioting inmates). Here, the film picks and chooses when the audience should laugh; it takes Grace\\'s stakes seriously but also encourages us to laugh at some (and only some) of the violence, which is problematically inconsistent.\\r\\n\\r\\nNevertheless, as I said, these scenes did make me laugh, so make of that what you will (it may say more about me than the film). Although _Ready or Not_ is slight, its satirical ire is focused, even if the tendency towards irreverence doesn\\'t always chime with the tone of the socio-political agenda. Is it the greatest horror-comedy of all time? Good Lord, no. Indeed, it doesn\\'t have much in the way of scares at all. But it sure is funny, allegorically skewering inherited wealth, marriage, tradition, even religion on occasion. With atavistic rules and sense of entitlement, the Le Domas family embody the concept that old-money can lead to an insularity from modernity, preventing the work-a-day world from entering their gated estates. Offering us a match, the film suggests that perhaps the only way to deal with such irrelevancies and their sense of self-importance is to burn them to the ground. And it has a blast showing us why.'"
      ]
     },
     "execution_count": 51,
     "metadata": {},
     "output_type": "execute_result"
    }
   ],
   "source": [
    "review_list[1]"
   ]
  },
  {
   "cell_type": "code",
   "execution_count": 52,
   "metadata": {},
   "outputs": [
    {
     "data": {
      "text/plain": [
       "\"‘Ready or Not’ doesn’t sport as many laughs as you'd want for this ridiculous story, nor is it dark enough to be a true horror; it's just gory and violent with the occasional jump scare and anxiety-ridden scene. So while it doesn’t meet expectations or desires, it’s still a fun, thrilling, wicked romp through the blood-soaked mansion and goat barn. \\r\\n\\r\\nSo prepare yourself for squeals of fear, squeals of delight, squeals of patriotism and the occasional giggled “WTF!?”... because here it comes!\\r\\n- Jess Fenton\\r\\n\\r\\nRead Jess' full article...\\r\\nhttps://www.maketheswitch.com.au/article/review-ready-or-not-not-quite-horror-not-quite-comedy-but-a-wickedly-good-time\""
      ]
     },
     "execution_count": 52,
     "metadata": {},
     "output_type": "execute_result"
    }
   ],
   "source": [
    "review_list[2]"
   ]
  },
  {
   "cell_type": "markdown",
   "metadata": {},
   "source": [
    "## Saving DataFrame to CSV file"
   ]
  },
  {
   "cell_type": "code",
   "execution_count": 53,
   "metadata": {},
   "outputs": [],
   "source": [
    "df.to_csv('moviesdb_review1.csv')"
   ]
  },
  {
   "cell_type": "markdown",
   "metadata": {},
   "source": [
    "# Start with one review[0]"
   ]
  },
  {
   "cell_type": "code",
   "execution_count": 92,
   "metadata": {},
   "outputs": [],
   "source": [
    "text=review_list[0]"
   ]
  },
  {
   "cell_type": "code",
   "execution_count": 94,
   "metadata": {},
   "outputs": [
    {
     "data": {
      "text/plain": [
       "\"‘The Lion King’ is a catastrophe; a new low in the ever-diminishing returns of Disney’s endless run of remakes. There’s nothing redeeming about it, with every decision either ill-conceived or mishandled to the point of incompetence. In Favreau’s hands, ‘The Lion King’ is rendered thunderously dull, lacking in any tension or complex characterisation, taking a laboriously long time to go nowhere and never once justifying its contentious existence. Even with my dislike of the original, I was flabbergasted at how thoroughly this film never attempts to understand why so many people love the 1994 film. If nothing else, this film makes it abundantly clear that Disney has no interest in making great cinema or honouring its own legacy. They don’t care whether the film is good or whether you enjoy it. All they care about is using nostalgia to trick you into buying your ticket so they can make as much money off you as they can, and maybe if they throw some recognisable iconic moments from your childhood on the screen, they may even be able to fool you into thinking you’d had a good time. ‘The Lion King’ is the ultimate diabolical apex of the commercialisation of nostalgia, and its inevitable box office success will just prove how easily we continue to be duped and how thoroughly they have trained us to not care about the quality of what we see. If this really is the future of mainstream cinema, then we are in serious, serious trouble.\\r\\n- Daniel Lammin\\r\\n\\r\\nRead Daniel's full article...\\r\\nhttps://www.maketheswitch.com.au/article/review-the-lion-king-a-catastrophic-and-soulless-remake-of-a-disney-classic\""
      ]
     },
     "execution_count": 94,
     "metadata": {},
     "output_type": "execute_result"
    }
   ],
   "source": [
    "text"
   ]
  },
  {
   "cell_type": "code",
   "execution_count": 109,
   "metadata": {},
   "outputs": [],
   "source": [
    "from nltk.stem import PorterStemmer, WordNetLemmatizer\n",
    "from nltk.corpus import wordnet"
   ]
  },
  {
   "cell_type": "code",
   "execution_count": 110,
   "metadata": {},
   "outputs": [
    {
     "name": "stderr",
     "output_type": "stream",
     "text": [
      "[nltk_data] Downloading package punkt to C:\\Users\\Su\n",
      "[nltk_data]     Gnee\\AppData\\Roaming\\nltk_data...\n",
      "[nltk_data]   Package punkt is already up-to-date!\n"
     ]
    },
    {
     "data": {
      "text/plain": [
       "True"
      ]
     },
     "execution_count": 110,
     "metadata": {},
     "output_type": "execute_result"
    }
   ],
   "source": [
    "import nltk\n",
    "nltk.download('punkt')"
   ]
  },
  {
   "cell_type": "code",
   "execution_count": 97,
   "metadata": {},
   "outputs": [],
   "source": [
    "sentences=nltk.sent_tokenize(text)"
   ]
  },
  {
   "cell_type": "code",
   "execution_count": 98,
   "metadata": {},
   "outputs": [
    {
     "name": "stdout",
     "output_type": "stream",
     "text": [
      "‘The Lion King’ is a catastrophe; a new low in the ever-diminishing returns of Disney’s endless run of remakes.\n",
      "\n",
      "There’s nothing redeeming about it, with every decision either ill-conceived or mishandled to the point of incompetence.\n",
      "\n",
      "In Favreau’s hands, ‘The Lion King’ is rendered thunderously dull, lacking in any tension or complex characterisation, taking a laboriously long time to go nowhere and never once justifying its contentious existence.\n",
      "\n",
      "Even with my dislike of the original, I was flabbergasted at how thoroughly this film never attempts to understand why so many people love the 1994 film.\n",
      "\n",
      "If nothing else, this film makes it abundantly clear that Disney has no interest in making great cinema or honouring its own legacy.\n",
      "\n",
      "They don’t care whether the film is good or whether you enjoy it.\n",
      "\n",
      "All they care about is using nostalgia to trick you into buying your ticket so they can make as much money off you as they can, and maybe if they throw some recognisable iconic moments from your childhood on the screen, they may even be able to fool you into thinking you’d had a good time.\n",
      "\n",
      "‘The Lion King’ is the ultimate diabolical apex of the commercialisation of nostalgia, and its inevitable box office success will just prove how easily we continue to be duped and how thoroughly they have trained us to not care about the quality of what we see.\n",
      "\n",
      "If this really is the future of mainstream cinema, then we are in serious, serious trouble.\n",
      "\n",
      "- Daniel Lammin\r\n",
      "\r\n",
      "Read Daniel's full article...\r\n",
      "https://www.maketheswitch.com.au/article/review-the-lion-king-a-catastrophic-and-soulless-remake-of-a-disney-classic\n",
      "\n"
     ]
    }
   ],
   "source": [
    "for sentence in sentences:\n",
    "    print(sentence)\n",
    "    print()"
   ]
  },
  {
   "cell_type": "code",
   "execution_count": null,
   "metadata": {},
   "outputs": [],
   "source": []
  },
  {
   "cell_type": "code",
   "execution_count": 99,
   "metadata": {},
   "outputs": [
    {
     "name": "stdout",
     "output_type": "stream",
     "text": [
      "['‘', 'The', 'Lion', 'King', '’', 'is', 'a', 'catastrophe', ';', 'a', 'new', 'low', 'in', 'the', 'ever-diminishing', 'returns', 'of', 'Disney', '’', 's', 'endless', 'run', 'of', 'remakes', '.']\n",
      "\n",
      "['There', '’', 's', 'nothing', 'redeeming', 'about', 'it', ',', 'with', 'every', 'decision', 'either', 'ill-conceived', 'or', 'mishandled', 'to', 'the', 'point', 'of', 'incompetence', '.']\n",
      "\n",
      "['In', 'Favreau', '’', 's', 'hands', ',', '‘', 'The', 'Lion', 'King', '’', 'is', 'rendered', 'thunderously', 'dull', ',', 'lacking', 'in', 'any', 'tension', 'or', 'complex', 'characterisation', ',', 'taking', 'a', 'laboriously', 'long', 'time', 'to', 'go', 'nowhere', 'and', 'never', 'once', 'justifying', 'its', 'contentious', 'existence', '.']\n",
      "\n",
      "['Even', 'with', 'my', 'dislike', 'of', 'the', 'original', ',', 'I', 'was', 'flabbergasted', 'at', 'how', 'thoroughly', 'this', 'film', 'never', 'attempts', 'to', 'understand', 'why', 'so', 'many', 'people', 'love', 'the', '1994', 'film', '.']\n",
      "\n",
      "['If', 'nothing', 'else', ',', 'this', 'film', 'makes', 'it', 'abundantly', 'clear', 'that', 'Disney', 'has', 'no', 'interest', 'in', 'making', 'great', 'cinema', 'or', 'honouring', 'its', 'own', 'legacy', '.']\n",
      "\n",
      "['They', 'don', '’', 't', 'care', 'whether', 'the', 'film', 'is', 'good', 'or', 'whether', 'you', 'enjoy', 'it', '.']\n",
      "\n",
      "['All', 'they', 'care', 'about', 'is', 'using', 'nostalgia', 'to', 'trick', 'you', 'into', 'buying', 'your', 'ticket', 'so', 'they', 'can', 'make', 'as', 'much', 'money', 'off', 'you', 'as', 'they', 'can', ',', 'and', 'maybe', 'if', 'they', 'throw', 'some', 'recognisable', 'iconic', 'moments', 'from', 'your', 'childhood', 'on', 'the', 'screen', ',', 'they', 'may', 'even', 'be', 'able', 'to', 'fool', 'you', 'into', 'thinking', 'you', '’', 'd', 'had', 'a', 'good', 'time', '.']\n",
      "\n",
      "['‘', 'The', 'Lion', 'King', '’', 'is', 'the', 'ultimate', 'diabolical', 'apex', 'of', 'the', 'commercialisation', 'of', 'nostalgia', ',', 'and', 'its', 'inevitable', 'box', 'office', 'success', 'will', 'just', 'prove', 'how', 'easily', 'we', 'continue', 'to', 'be', 'duped', 'and', 'how', 'thoroughly', 'they', 'have', 'trained', 'us', 'to', 'not', 'care', 'about', 'the', 'quality', 'of', 'what', 'we', 'see', '.']\n",
      "\n",
      "['If', 'this', 'really', 'is', 'the', 'future', 'of', 'mainstream', 'cinema', ',', 'then', 'we', 'are', 'in', 'serious', ',', 'serious', 'trouble', '.']\n",
      "\n",
      "['-', 'Daniel', 'Lammin', 'Read', 'Daniel', \"'s\", 'full', 'article', '...', 'https', ':', '//www.maketheswitch.com.au/article/review-the-lion-king-a-catastrophic-and-soulless-remake-of-a-disney-classic']\n",
      "\n"
     ]
    }
   ],
   "source": [
    "for sentence in sentences:\n",
    "    words=nltk.word_tokenize(sentence)\n",
    "    print(words)\n",
    "    print()"
   ]
  },
  {
   "cell_type": "markdown",
   "metadata": {},
   "source": [
    "## Get the first sentence from the array"
   ]
  },
  {
   "cell_type": "code",
   "execution_count": 113,
   "metadata": {},
   "outputs": [
    {
     "name": "stdout",
     "output_type": "stream",
     "text": [
      "‘The Lion King’ is a catastrophe; a new low in the ever-diminishing returns of Disney’s endless run of remakes.\n"
     ]
    }
   ],
   "source": [
    "print(sentences[0])"
   ]
  },
  {
   "cell_type": "markdown",
   "metadata": {},
   "source": [
    "## Data Cleaning - Remove Punctuation\n",
    "# Replace non words with space"
   ]
  },
  {
   "cell_type": "code",
   "execution_count": 114,
   "metadata": {},
   "outputs": [],
   "source": [
    "import re"
   ]
  },
  {
   "cell_type": "code",
   "execution_count": 115,
   "metadata": {},
   "outputs": [
    {
     "name": "stdout",
     "output_type": "stream",
     "text": [
      "‘The Lion King’ is a catastrophe; a new low in the ever-diminishing returns of Disney’s endless run of remakes.\n"
     ]
    }
   ],
   "source": [
    "print(sentences[0])"
   ]
  },
  {
   "cell_type": "code",
   "execution_count": 116,
   "metadata": {},
   "outputs": [],
   "source": [
    "pattern=r\"[^\\w]\""
   ]
  },
  {
   "cell_type": "code",
   "execution_count": 117,
   "metadata": {},
   "outputs": [],
   "source": [
    "sentence_without_punctuation=re.sub(pattern,\" \",sentences[0])"
   ]
  },
  {
   "cell_type": "code",
   "execution_count": 118,
   "metadata": {},
   "outputs": [
    {
     "name": "stdout",
     "output_type": "stream",
     "text": [
      " The Lion King  is a catastrophe  a new low in the ever diminishing returns of Disney s endless run of remakes \n"
     ]
    }
   ],
   "source": [
    "print(sentence_without_punctuation)"
   ]
  },
  {
   "cell_type": "code",
   "execution_count": 119,
   "metadata": {},
   "outputs": [
    {
     "name": "stdout",
     "output_type": "stream",
     "text": [
      "['The', 'Lion', 'King', 'is', 'a', 'catastrophe', 'a', 'new', 'low', 'in', 'the', 'ever', 'diminishing', 'returns', 'of', 'Disney', 's', 'endless', 'run', 'of', 'remakes']\n"
     ]
    }
   ],
   "source": [
    "words=nltk.word_tokenize(sentence_without_punctuation)\n",
    "print(words)"
   ]
  },
  {
   "cell_type": "code",
   "execution_count": 120,
   "metadata": {},
   "outputs": [],
   "source": [
    "from nltk.corpus import stopwords\n"
   ]
  },
  {
   "cell_type": "code",
   "execution_count": 121,
   "metadata": {},
   "outputs": [
    {
     "name": "stdout",
     "output_type": "stream",
     "text": [
      "['i', 'me', 'my', 'myself', 'we', 'our', 'ours', 'ourselves', 'you', \"you're\", \"you've\", \"you'll\", \"you'd\", 'your', 'yours', 'yourself', 'yourselves', 'he', 'him', 'his', 'himself', 'she', \"she's\", 'her', 'hers', 'herself', 'it', \"it's\", 'its', 'itself', 'they', 'them', 'their', 'theirs', 'themselves', 'what', 'which', 'who', 'whom', 'this', 'that', \"that'll\", 'these', 'those', 'am', 'is', 'are', 'was', 'were', 'be', 'been', 'being', 'have', 'has', 'had', 'having', 'do', 'does', 'did', 'doing', 'a', 'an', 'the', 'and', 'but', 'if', 'or', 'because', 'as', 'until', 'while', 'of', 'at', 'by', 'for', 'with', 'about', 'against', 'between', 'into', 'through', 'during', 'before', 'after', 'above', 'below', 'to', 'from', 'up', 'down', 'in', 'out', 'on', 'off', 'over', 'under', 'again', 'further', 'then', 'once', 'here', 'there', 'when', 'where', 'why', 'how', 'all', 'any', 'both', 'each', 'few', 'more', 'most', 'other', 'some', 'such', 'no', 'nor', 'not', 'only', 'own', 'same', 'so', 'than', 'too', 'very', 's', 't', 'can', 'will', 'just', 'don', \"don't\", 'should', \"should've\", 'now', 'd', 'll', 'm', 'o', 're', 've', 'y', 'ain', 'aren', \"aren't\", 'couldn', \"couldn't\", 'didn', \"didn't\", 'doesn', \"doesn't\", 'hadn', \"hadn't\", 'hasn', \"hasn't\", 'haven', \"haven't\", 'isn', \"isn't\", 'ma', 'mightn', \"mightn't\", 'mustn', \"mustn't\", 'needn', \"needn't\", 'shan', \"shan't\", 'shouldn', \"shouldn't\", 'wasn', \"wasn't\", 'weren', \"weren't\", 'won', \"won't\", 'wouldn', \"wouldn't\"]\n"
     ]
    }
   ],
   "source": [
    "print(stopwords.words(\"english\"))"
   ]
  },
  {
   "cell_type": "code",
   "execution_count": 122,
   "metadata": {},
   "outputs": [],
   "source": [
    "stop_words=set(stopwords.words(\"english\"))"
   ]
  },
  {
   "cell_type": "code",
   "execution_count": 123,
   "metadata": {},
   "outputs": [],
   "source": [
    "without_stop_words=[word for word in words if not word in stop_words]"
   ]
  },
  {
   "cell_type": "code",
   "execution_count": 124,
   "metadata": {},
   "outputs": [
    {
     "name": "stdout",
     "output_type": "stream",
     "text": [
      "['The', 'Lion', 'King', 'catastrophe', 'new', 'low', 'ever', 'diminishing', 'returns', 'Disney', 'endless', 'run', 'remakes']\n"
     ]
    }
   ],
   "source": [
    "print(without_stop_words)"
   ]
  },
  {
   "cell_type": "markdown",
   "metadata": {},
   "source": [
    "## Lemmatization"
   ]
  },
  {
   "cell_type": "code",
   "execution_count": 125,
   "metadata": {},
   "outputs": [],
   "source": [
    "stemmer=PorterStemmer()"
   ]
  },
  {
   "cell_type": "code",
   "execution_count": 126,
   "metadata": {},
   "outputs": [],
   "source": [
    "stemmed_overview=[stemmer.stem(word) for word in without_stop_words]"
   ]
  },
  {
   "cell_type": "code",
   "execution_count": 127,
   "metadata": {},
   "outputs": [
    {
     "name": "stdout",
     "output_type": "stream",
     "text": [
      "['the', 'lion', 'king', 'catastroph', 'new', 'low', 'ever', 'diminish', 'return', 'disney', 'endless', 'run', 'remak']\n"
     ]
    }
   ],
   "source": [
    "print(stemmed_overview)"
   ]
  },
  {
   "cell_type": "code",
   "execution_count": 128,
   "metadata": {},
   "outputs": [],
   "source": [
    "from nltk.tokenize.treebank import TreebankWordDetokenizer"
   ]
  },
  {
   "cell_type": "code",
   "execution_count": 129,
   "metadata": {},
   "outputs": [],
   "source": [
    "detokenized_string=TreebankWordDetokenizer().detokenize(stemmed_overview)"
   ]
  },
  {
   "cell_type": "markdown",
   "metadata": {},
   "source": [
    "# Sentiment Analysis"
   ]
  },
  {
   "cell_type": "code",
   "execution_count": 130,
   "metadata": {},
   "outputs": [],
   "source": [
    "from vaderSentiment.vaderSentiment import SentimentIntensityAnalyzer"
   ]
  },
  {
   "cell_type": "code",
   "execution_count": 131,
   "metadata": {},
   "outputs": [],
   "source": [
    "analyser= SentimentIntensityAnalyzer()"
   ]
  },
  {
   "cell_type": "code",
   "execution_count": 132,
   "metadata": {},
   "outputs": [],
   "source": [
    "score=analyser.polarity_scores(detokenized_string)\n"
   ]
  },
  {
   "cell_type": "code",
   "execution_count": 133,
   "metadata": {},
   "outputs": [
    {
     "name": "stdout",
     "output_type": "stream",
     "text": [
      "{'neg': 0.149, 'neu': 0.851, 'pos': 0.0, 'compound': -0.2732}\n"
     ]
    }
   ],
   "source": [
    "print(score)"
   ]
  },
  {
   "cell_type": "markdown",
   "metadata": {},
   "source": [
    "Our sentence was graded 14.9% positive, 85.1% neutral 0% positive. All these add up to 1"
   ]
  },
  {
   "cell_type": "markdown",
   "metadata": {},
   "source": [
    "# New Process to do a Sentiment Analysis for Lion King review"
   ]
  },
  {
   "cell_type": "code",
   "execution_count": 7,
   "metadata": {},
   "outputs": [],
   "source": [
    "url=\"https://api.themoviedb.org/3/movie/420818/reviews?[MY_API_KEY]\"\n",
    "response=requests.get(url)\n",
    "data=response.json()\n",
    "rows=data[\"results\"]\n",
    "df=pd.DataFrame(rows)"
   ]
  },
  {
   "cell_type": "code",
   "execution_count": 8,
   "metadata": {},
   "outputs": [
    {
     "data": {
      "text/html": [
       "<div>\n",
       "<style scoped>\n",
       "    .dataframe tbody tr th:only-of-type {\n",
       "        vertical-align: middle;\n",
       "    }\n",
       "\n",
       "    .dataframe tbody tr th {\n",
       "        vertical-align: top;\n",
       "    }\n",
       "\n",
       "    .dataframe thead th {\n",
       "        text-align: right;\n",
       "    }\n",
       "</style>\n",
       "<table border=\"1\" class=\"dataframe\">\n",
       "  <thead>\n",
       "    <tr style=\"text-align: right;\">\n",
       "      <th></th>\n",
       "      <th>author</th>\n",
       "      <th>content</th>\n",
       "      <th>id</th>\n",
       "      <th>url</th>\n",
       "    </tr>\n",
       "  </thead>\n",
       "  <tbody>\n",
       "    <tr>\n",
       "      <th>0</th>\n",
       "      <td>SWITCH.</td>\n",
       "      <td>‘The Lion King’ is a catastrophe; a new low in...</td>\n",
       "      <td>5d2ddc7d6a300b0011a469df</td>\n",
       "      <td>https://www.themoviedb.org/review/5d2ddc7d6a30...</td>\n",
       "    </tr>\n",
       "    <tr>\n",
       "      <th>1</th>\n",
       "      <td>msbreviews</td>\n",
       "      <td>If you enjoy reading my Spoiler-Free reviews, ...</td>\n",
       "      <td>5d31d3991d78f2000ee0b492</td>\n",
       "      <td>https://www.themoviedb.org/review/5d31d3991d78...</td>\n",
       "    </tr>\n",
       "  </tbody>\n",
       "</table>\n",
       "</div>"
      ],
      "text/plain": [
       "       author                                            content  \\\n",
       "0     SWITCH.  ‘The Lion King’ is a catastrophe; a new low in...   \n",
       "1  msbreviews  If you enjoy reading my Spoiler-Free reviews, ...   \n",
       "\n",
       "                         id                                                url  \n",
       "0  5d2ddc7d6a300b0011a469df  https://www.themoviedb.org/review/5d2ddc7d6a30...  \n",
       "1  5d31d3991d78f2000ee0b492  https://www.themoviedb.org/review/5d31d3991d78...  "
      ]
     },
     "execution_count": 8,
     "metadata": {},
     "output_type": "execute_result"
    }
   ],
   "source": [
    "df"
   ]
  },
  {
   "cell_type": "code",
   "execution_count": 9,
   "metadata": {},
   "outputs": [],
   "source": [
    "review_list=df['content']"
   ]
  },
  {
   "cell_type": "code",
   "execution_count": 10,
   "metadata": {},
   "outputs": [
    {
     "data": {
      "text/plain": [
       "\"‘The Lion King’ is a catastrophe; a new low in the ever-diminishing returns of Disney’s endless run of remakes. There’s nothing redeeming about it, with every decision either ill-conceived or mishandled to the point of incompetence. In Favreau’s hands, ‘The Lion King’ is rendered thunderously dull, lacking in any tension or complex characterisation, taking a laboriously long time to go nowhere and never once justifying its contentious existence. Even with my dislike of the original, I was flabbergasted at how thoroughly this film never attempts to understand why so many people love the 1994 film. If nothing else, this film makes it abundantly clear that Disney has no interest in making great cinema or honouring its own legacy. They don’t care whether the film is good or whether you enjoy it. All they care about is using nostalgia to trick you into buying your ticket so they can make as much money off you as they can, and maybe if they throw some recognisable iconic moments from your childhood on the screen, they may even be able to fool you into thinking you’d had a good time. ‘The Lion King’ is the ultimate diabolical apex of the commercialisation of nostalgia, and its inevitable box office success will just prove how easily we continue to be duped and how thoroughly they have trained us to not care about the quality of what we see. If this really is the future of mainstream cinema, then we are in serious, serious trouble.\\r\\n- Daniel Lammin\\r\\n\\r\\nRead Daniel's full article...\\r\\nhttps://www.maketheswitch.com.au/article/review-the-lion-king-a-catastrophic-and-soulless-remake-of-a-disney-classic\""
      ]
     },
     "execution_count": 10,
     "metadata": {},
     "output_type": "execute_result"
    }
   ],
   "source": [
    "review_list[0]"
   ]
  },
  {
   "cell_type": "code",
   "execution_count": 11,
   "metadata": {},
   "outputs": [],
   "source": [
    "my_sentences=review_list[0]"
   ]
  },
  {
   "cell_type": "code",
   "execution_count": 12,
   "metadata": {},
   "outputs": [
    {
     "name": "stdout",
     "output_type": "stream",
     "text": [
      "‘The Lion King’ is a catastrophe; a new low in the ever-diminishing returns of Disney’s endless run of remakes. There’s nothing redeeming about it, with every decision either ill-conceived or mishandled to the point of incompetence. In Favreau’s hands, ‘The Lion King’ is rendered thunderously dull, lacking in any tension or complex characterisation, taking a laboriously long time to go nowhere and never once justifying its contentious existence. Even with my dislike of the original, I was flabbergasted at how thoroughly this film never attempts to understand why so many people love the 1994 film. If nothing else, this film makes it abundantly clear that Disney has no interest in making great cinema or honouring its own legacy. They don’t care whether the film is good or whether you enjoy it. All they care about is using nostalgia to trick you into buying your ticket so they can make as much money off you as they can, and maybe if they throw some recognisable iconic moments from your childhood on the screen, they may even be able to fool you into thinking you’d had a good time. ‘The Lion King’ is the ultimate diabolical apex of the commercialisation of nostalgia, and its inevitable box office success will just prove how easily we continue to be duped and how thoroughly they have trained us to not care about the quality of what we see. If this really is the future of mainstream cinema, then we are in serious, serious trouble.\r\n",
      "- Daniel Lammin\r\n",
      "\r\n",
      "Read Daniel's full article...\r\n",
      "https://www.maketheswitch.com.au/article/review-the-lion-king-a-catastrophic-and-soulless-remake-of-a-disney-classic\n"
     ]
    }
   ],
   "source": [
    "print(my_sentences)"
   ]
  },
  {
   "cell_type": "code",
   "execution_count": 15,
   "metadata": {},
   "outputs": [],
   "source": [
    "# Write a pattern to match all words\n",
    "\n",
    "pattern=r\"[^\\w]\""
   ]
  },
  {
   "cell_type": "code",
   "execution_count": 17,
   "metadata": {},
   "outputs": [],
   "source": [
    "# substitute the pattern found with a space\n",
    "import re\n",
    "sentences_without_punctuation=re.sub(pattern,\" \",my_sentences)"
   ]
  },
  {
   "cell_type": "code",
   "execution_count": 18,
   "metadata": {},
   "outputs": [
    {
     "name": "stdout",
     "output_type": "stream",
     "text": [
      " The Lion King  is a catastrophe  a new low in the ever diminishing returns of Disney s endless run of remakes  There s nothing redeeming about it  with every decision either ill conceived or mishandled to the point of incompetence  In Favreau s hands   The Lion King  is rendered thunderously dull  lacking in any tension or complex characterisation  taking a laboriously long time to go nowhere and never once justifying its contentious existence  Even with my dislike of the original  I was flabbergasted at how thoroughly this film never attempts to understand why so many people love the 1994 film  If nothing else  this film makes it abundantly clear that Disney has no interest in making great cinema or honouring its own legacy  They don t care whether the film is good or whether you enjoy it  All they care about is using nostalgia to trick you into buying your ticket so they can make as much money off you as they can  and maybe if they throw some recognisable iconic moments from your childhood on the screen  they may even be able to fool you into thinking you d had a good time   The Lion King  is the ultimate diabolical apex of the commercialisation of nostalgia  and its inevitable box office success will just prove how easily we continue to be duped and how thoroughly they have trained us to not care about the quality of what we see  If this really is the future of mainstream cinema  then we are in serious  serious trouble     Daniel Lammin    Read Daniel s full article     https   www maketheswitch com au article review the lion king a catastrophic and soulless remake of a disney classic\n"
     ]
    }
   ],
   "source": [
    "print(sentences_without_punctuation)"
   ]
  },
  {
   "cell_type": "code",
   "execution_count": 20,
   "metadata": {},
   "outputs": [],
   "source": [
    "# find all letters\n",
    "# substitute the pattern found with a space\n",
    "\n",
    "pattern=r\"[0-9]\\w*\""
   ]
  },
  {
   "cell_type": "code",
   "execution_count": 21,
   "metadata": {},
   "outputs": [
    {
     "name": "stdout",
     "output_type": "stream",
     "text": [
      "['1994']\n"
     ]
    }
   ],
   "source": [
    "#print the result of finding this numerals in the sentence_withou_punctuation\n",
    "print(re.findall(pattern, sentences_without_punctuation))"
   ]
  },
  {
   "cell_type": "code",
   "execution_count": 22,
   "metadata": {},
   "outputs": [],
   "source": [
    "# substitute pattern found with space and print the result\n",
    "sentences_only_alphabets=re.sub(pattern,\" \",sentences_without_punctuation)"
   ]
  },
  {
   "cell_type": "code",
   "execution_count": 23,
   "metadata": {},
   "outputs": [
    {
     "name": "stdout",
     "output_type": "stream",
     "text": [
      " The Lion King  is a catastrophe  a new low in the ever diminishing returns of Disney s endless run of remakes  There s nothing redeeming about it  with every decision either ill conceived or mishandled to the point of incompetence  In Favreau s hands   The Lion King  is rendered thunderously dull  lacking in any tension or complex characterisation  taking a laboriously long time to go nowhere and never once justifying its contentious existence  Even with my dislike of the original  I was flabbergasted at how thoroughly this film never attempts to understand why so many people love the   film  If nothing else  this film makes it abundantly clear that Disney has no interest in making great cinema or honouring its own legacy  They don t care whether the film is good or whether you enjoy it  All they care about is using nostalgia to trick you into buying your ticket so they can make as much money off you as they can  and maybe if they throw some recognisable iconic moments from your childhood on the screen  they may even be able to fool you into thinking you d had a good time   The Lion King  is the ultimate diabolical apex of the commercialisation of nostalgia  and its inevitable box office success will just prove how easily we continue to be duped and how thoroughly they have trained us to not care about the quality of what we see  If this really is the future of mainstream cinema  then we are in serious  serious trouble     Daniel Lammin    Read Daniel s full article     https   www maketheswitch com au article review the lion king a catastrophic and soulless remake of a disney classic\n"
     ]
    }
   ],
   "source": [
    "print(sentences_only_alphabets)"
   ]
  },
  {
   "cell_type": "code",
   "execution_count": 29,
   "metadata": {},
   "outputs": [],
   "source": [
    "from vaderSentiment.vaderSentiment import SentimentIntensityAnalyzer"
   ]
  },
  {
   "cell_type": "code",
   "execution_count": 30,
   "metadata": {},
   "outputs": [],
   "source": [
    "analyser= SentimentIntensityAnalyzer()"
   ]
  },
  {
   "cell_type": "code",
   "execution_count": 31,
   "metadata": {},
   "outputs": [],
   "source": [
    "score=analyser.polarity_scores(\"The Lion King is a bad\")\n"
   ]
  },
  {
   "cell_type": "code",
   "execution_count": 32,
   "metadata": {},
   "outputs": [
    {
     "name": "stdout",
     "output_type": "stream",
     "text": [
      "{'neg': 0.467, 'neu': 0.533, 'pos': 0.0, 'compound': -0.5423}\n"
     ]
    }
   ],
   "source": [
    "print(score)"
   ]
  },
  {
   "cell_type": "markdown",
   "metadata": {},
   "source": [
    "Sentiment analysis shows that 46.7% is negative, 53.3% is neutral 0% is positive"
   ]
  },
  {
   "cell_type": "code",
   "execution_count": null,
   "metadata": {},
   "outputs": [],
   "source": []
  }
 ],
 "metadata": {
  "kernelspec": {
   "display_name": "Python 3",
   "language": "python",
   "name": "python3"
  },
  "language_info": {
   "codemirror_mode": {
    "name": "ipython",
    "version": 3
   },
   "file_extension": ".py",
   "mimetype": "text/x-python",
   "name": "python",
   "nbconvert_exporter": "python",
   "pygments_lexer": "ipython3",
   "version": "3.7.1"
  }
 },
 "nbformat": 4,
 "nbformat_minor": 2
}
